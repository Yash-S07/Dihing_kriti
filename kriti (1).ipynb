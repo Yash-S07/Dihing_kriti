{
  "cells": [
    {
      "cell_type": "code",
      "execution_count": null,
      "metadata": {
        "colab": {
          "base_uri": "https://localhost:8080/"
        },
        "id": "04ysO2NAoFUk",
        "outputId": "a6704764-65ff-453f-dc53-01a627799923"
      },
      "outputs": [
        {
          "name": "stdout",
          "output_type": "stream",
          "text": [
            "Requirement already satisfied: lightgbm in /usr/local/lib/python3.10/dist-packages (4.1.0)\n",
            "Requirement already satisfied: numpy in /usr/local/lib/python3.10/dist-packages (from lightgbm) (1.23.5)\n",
            "Requirement already satisfied: scipy in /usr/local/lib/python3.10/dist-packages (from lightgbm) (1.11.4)\n"
          ]
        }
      ],
      "source": [
        "!pip install lightgbm\n"
      ]
    },
    {
      "cell_type": "code",
      "execution_count": null,
      "metadata": {
        "id": "MVeveAXqn0It"
      },
      "outputs": [],
      "source": [
        "import matplotlib.pyplot as plt\n",
        "import seaborn as sns\n",
        "import nltk\n",
        "import re\n",
        "from nltk.corpus import stopwords\n",
        "from sklearn.feature_extraction.text import TfidfVectorizer\n",
        "import pandas as pd\n",
        "import numpy as np\n",
        "\n",
        "from nltk.stem.snowball import SnowballStemmer\n",
        "from sklearn.model_selection import train_test_split\n",
        "from sklearn.feature_extraction.text import TfidfTransformer\n",
        "from sklearn.feature_extraction.text import TfidfVectorizer\n",
        "from sklearn.feature_extraction.text import CountVectorizer\n",
        "from sklearn.naive_bayes import MultinomialNB\n",
        "from sklearn.metrics import accuracy_score\n",
        "from sklearn.multiclass import OneVsRestClassifier\n",
        "from sklearn.svm import LinearSVC\n",
        "from sklearn.linear_model import LogisticRegression\n",
        "from sklearn.pipeline import Pipeline\n",
        "from sklearn.preprocessing import MultiLabelBinarizer\n",
        "from sklearn.metrics import f1_score\n",
        "from sklearn.metrics import hamming_loss\n",
        "from skmultilearn.problem_transform import BinaryRelevance\n",
        "from sklearn.naive_bayes import MultinomialNB\n",
        "from skmultilearn.problem_transform import ClassifierChain\n",
        "from skmultilearn.problem_transform import LabelPowerset"
      ]
    },
    {
      "cell_type": "code",
      "execution_count": null,
      "metadata": {
        "colab": {
          "base_uri": "https://localhost:8080/"
        },
        "id": "Ga9xXzTuoVW-",
        "outputId": "6281af76-0a00-4b81-cb30-4ebd6f7f7700"
      },
      "outputs": [
        {
          "name": "stdout",
          "output_type": "stream",
          "text": [
            "Mounted at /content/drive\n"
          ]
        }
      ],
      "source": [
        "from google.colab import drive\n",
        "\n",
        "drive.mount('/content/drive')"
      ]
    },
    {
      "cell_type": "code",
      "execution_count": null,
      "metadata": {
        "id": "_wTmSFPtn0I0"
      },
      "outputs": [],
      "source": [
        "df = pd.read_csv('/content/drive/MyDrive/kriti-2024/train.csv')"
      ]
    },
    {
      "cell_type": "code",
      "execution_count": null,
      "metadata": {
        "id": "dSjBCMTSn0I1"
      },
      "outputs": [],
      "source": []
    },
    {
      "cell_type": "code",
      "execution_count": null,
      "metadata": {
        "colab": {
          "base_uri": "https://localhost:8080/"
        },
        "id": "ixucsg9rn0I2",
        "outputId": "50535369-67f9-4518-fc4e-76f741693d6a"
      },
      "outputs": [
        {
          "data": {
            "text/plain": [
              "51210"
            ]
          },
          "execution_count": 9,
          "metadata": {},
          "output_type": "execute_result"
        }
      ],
      "source": [
        "len(df)"
      ]
    },
    {
      "cell_type": "code",
      "execution_count": null,
      "metadata": {
        "id": "VJ-8W5T7n0I3"
      },
      "outputs": [],
      "source": [
        "l = [\"math.AT\",\"stat.AP\",\"cs.AR\",\"math.QA\",\"q-bio.MN\",\"eess.AS\",\"eess.IV\",\"stat.ME\",\"econ.GN\"\n",
        ",\"eess.SP\",\"q-fin.RM\",\"cs.LG\",\"cs.CR\",\"q-bio.BM\",\"q-fin.GN\",\"q-fin.MF\",\"q-fin.PR\",\"math.CV\",\"cs.LO\",\"econ.TH\",\"math.CO\",\"cs.AI\",\"math.AC\",\"q-bio.CB\",\"q-fin.CP\",\"cs.CL\",\"cs.DC\",\"math.LO\",\"math.NT\",\"cs.SD\",\"q-fin.TR\",\"cs.CV\",\"stat.ML\",\"q-fin.EC\",\"econ.EM\",\"cs.CE\",\"stat.CO\",\"math.PR\",\"q-bio.NC\",\"math.AP\",\"cs.OS\",\"cs.NI\",\"cs.IT\",\"cs.PL\",\n",
        "    \"cs.GT\",\"cs.DM\",\"math.IT\",\"cs.SE\",\"cs.RO\",\"stat.TH\",\"cs.DB\",\"math.ST\",\"q-bio.GN\",\"q-fin.PM\",\"q-bio.TO\",\"math.GR\",\"cs.IR\"]"
      ]
    },
    {
      "cell_type": "code",
      "execution_count": null,
      "metadata": {
        "id": "P5kHlgHxn0I3"
      },
      "outputs": [],
      "source": [
        "for col in l :\n",
        "    df[col] = np.zeros(len(df))"
      ]
    },
    {
      "cell_type": "code",
      "execution_count": null,
      "metadata": {
        "colab": {
          "base_uri": "https://localhost:8080/"
        },
        "id": "wMuqrwSYn0I4",
        "outputId": "8c454b70-b99d-4c10-e4ab-c04698923a66"
      },
      "outputs": [
        {
          "name": "stderr",
          "output_type": "stream",
          "text": [
            "<ipython-input-15-0f424883ac8f>:3: SettingWithCopyWarning: \n",
            "A value is trying to be set on a copy of a slice from a DataFrame\n",
            "\n",
            "See the caveats in the documentation: https://pandas.pydata.org/pandas-docs/stable/user_guide/indexing.html#returning-a-view-versus-a-copy\n",
            "  df[t.strip().lstrip(\"'\").rstrip(\"'\")][i] = 1\n"
          ]
        }
      ],
      "source": [
        "for i in range(len(df)):\n",
        "    for t in df[\"Categories\"][i].rstrip(\"]\").lstrip(\"[\").split(','):\n",
        "        df[t.strip().lstrip(\"'\").rstrip(\"'\")][i] = 1"
      ]
    },
    {
      "cell_type": "code",
      "execution_count": null,
      "metadata": {
        "id": "9hKv0KIQn0I4"
      },
      "outputs": [],
      "source": [
        "df['comb'] = df['Title']+\" \"+df['Abstract']"
      ]
    },
    {
      "cell_type": "code",
      "execution_count": null,
      "metadata": {
        "id": "w0P2973in0I5"
      },
      "outputs": [],
      "source": [
        "df.drop(['Title',\"Abstract\"],axis=1,inplace=True)"
      ]
    },
    {
      "cell_type": "code",
      "execution_count": null,
      "metadata": {
        "colab": {
          "base_uri": "https://localhost:8080/"
        },
        "id": "ilZNsSiBn0I5",
        "outputId": "381c9154-eb27-496e-a91d-e1345bae1386"
      },
      "outputs": [
        {
          "name": "stderr",
          "output_type": "stream",
          "text": [
            "<ipython-input-18-9aa2d0cb63b4>:4: SettingWithCopyWarning: \n",
            "A value is trying to be set on a copy of a slice from a DataFrame\n",
            "\n",
            "See the caveats in the documentation: https://pandas.pydata.org/pandas-docs/stable/user_guide/indexing.html#returning-a-view-versus-a-copy\n",
            "  df[\"comb\"][i] = df['comb'][i].translate(str.maketrans(\" \",\" \",string.punctuation))\n"
          ]
        }
      ],
      "source": [
        "import string\n",
        "\n",
        "for i in range(len(df)):\n",
        "    df[\"comb\"][i] = df['comb'][i].translate(str.maketrans(\" \",\" \",string.punctuation))\n"
      ]
    },
    {
      "cell_type": "code",
      "execution_count": null,
      "metadata": {
        "colab": {
          "base_uri": "https://localhost:8080/"
        },
        "id": "W20pAor8n0I6",
        "outputId": "a05e0611-60d3-452d-9afc-d8238fa05d54"
      },
      "outputs": [
        {
          "name": "stderr",
          "output_type": "stream",
          "text": [
            "<ipython-input-19-45acbcdde188>:2: SettingWithCopyWarning: \n",
            "A value is trying to be set on a copy of a slice from a DataFrame\n",
            "\n",
            "See the caveats in the documentation: https://pandas.pydata.org/pandas-docs/stable/user_guide/indexing.html#returning-a-view-versus-a-copy\n",
            "  df[\"comb\"][i] = df['comb'][i].replace(\"\\n\",\" \")\n"
          ]
        }
      ],
      "source": [
        "for i in range(len(df)):\n",
        "    df[\"comb\"][i] = df['comb'][i].replace(\"\\n\",\" \")"
      ]
    },
    {
      "cell_type": "code",
      "execution_count": null,
      "metadata": {
        "colab": {
          "base_uri": "https://localhost:8080/",
          "height": 54
        },
        "id": "bf2WNDabn0I6",
        "outputId": "e637300b-9c30-4e16-a88c-629354bbc0ae"
      },
      "outputs": [
        {
          "data": {
            "application/vnd.google.colaboratory.intrinsic+json": {
              "type": "string"
            },
            "text/plain": [
              "'On extensions of group with infinite conjugacy classes I We characterize the group property of being with infinite conjugacy classes or icc in which all conjugacy classes beside 1 are infinite for extensions of some specific groups  namely extensions of abelian centerless icc or word hyperbolic groups'"
            ]
          },
          "execution_count": 20,
          "metadata": {},
          "output_type": "execute_result"
        }
      ],
      "source": [
        "df['comb'][1]"
      ]
    },
    {
      "cell_type": "code",
      "execution_count": null,
      "metadata": {
        "id": "zG-d2YApn0I7"
      },
      "outputs": [],
      "source": [
        "from sklearn.pipeline import Pipeline\n",
        "from sklearn.feature_extraction.text import TfidfVectorizer\n",
        "from sklearn.naive_bayes import MultinomialNB,ComplementNB\n",
        "from sklearn.svm import LinearSVC\n",
        "from sklearn.linear_model import LogisticRegression"
      ]
    },
    {
      "cell_type": "code",
      "execution_count": null,
      "metadata": {
        "id": "EwFZjgPRn0I7"
      },
      "outputs": [],
      "source": [
        "from sklearn.metrics import accuracy_score,classification_report\n"
      ]
    },
    {
      "cell_type": "code",
      "execution_count": null,
      "metadata": {
        "id": "mDKI_LsXn0I7"
      },
      "outputs": [],
      "source": [
        "from sklearn.model_selection import train_test_split\n",
        "\n",
        "from xgboost import XGBClassifier\n",
        "from lightgbm import LGBMClassifier\n"
      ]
    },
    {
      "cell_type": "code",
      "execution_count": null,
      "metadata": {
        "id": "UJEMtIREn0I8"
      },
      "outputs": [],
      "source": [
        "\n"
      ]
    },
    {
      "cell_type": "code",
      "execution_count": null,
      "metadata": {
        "colab": {
          "base_uri": "https://localhost:8080/"
        },
        "id": "wO1Qjh9Dn0I8",
        "outputId": "4e47e654-5102-48a4-c067-f107d658e605"
      },
      "outputs": [
        {
          "name": "stderr",
          "output_type": "stream",
          "text": [
            "<ipython-input-25-fefea4fd4e06>:4: SettingWithCopyWarning: \n",
            "A value is trying to be set on a copy of a slice from a DataFrame\n",
            "\n",
            "See the caveats in the documentation: https://pandas.pydata.org/pandas-docs/stable/user_guide/indexing.html#returning-a-view-versus-a-copy\n",
            "  testdf[\"comb\"][i] = testdf['comb'][i].translate(str.maketrans(\" \",\" \",string.punctuation))\n",
            "<ipython-input-25-fefea4fd4e06>:6: SettingWithCopyWarning: \n",
            "A value is trying to be set on a copy of a slice from a DataFrame\n",
            "\n",
            "See the caveats in the documentation: https://pandas.pydata.org/pandas-docs/stable/user_guide/indexing.html#returning-a-view-versus-a-copy\n",
            "  testdf[\"comb\"][i] = testdf['comb'][i].replace(\"\\n\",\" \")\n"
          ]
        }
      ],
      "source": [
        "testdf = pd.read_csv(\"/content/drive/MyDrive/kriti-2024/test.csv\")\n",
        "testdf['comb'] = testdf['Title']+\" \"+testdf['Abstract']\n",
        "for i in range(len(testdf)):\n",
        "    testdf[\"comb\"][i] = testdf['comb'][i].translate(str.maketrans(\" \",\" \",string.punctuation))\n",
        "for i in range(len(testdf)):\n",
        "    testdf[\"comb\"][i] = testdf['comb'][i].replace(\"\\n\",\" \")"
      ]
    },
    {
      "cell_type": "code",
      "execution_count": null,
      "metadata": {
        "id": "tF1edb5Nn0I8"
      },
      "outputs": [],
      "source": [
        "from sklearn.multioutput import MultiOutputClassifier\n",
        "clf1 =Pipeline([(\"tfidf\",TfidfVectorizer(stop_words=\"english\")),(\"clf\",MultiOutputClassifier(LGBMClassifier()))])"
      ]
    },
    {
      "cell_type": "code",
      "execution_count": null,
      "metadata": {
        "colab": {
          "base_uri": "https://localhost:8080/",
          "height": 550
        },
        "id": "NpgxVURKn0I8",
        "outputId": "c37db52b-f86f-411d-8099-354d96f1f8ce"
      },
      "outputs": [
        {
          "data": {
            "text/html": [
              "\n",
              "  <div id=\"df-7c9ae9d6-4011-43d7-b48c-17e4d41d5f14\" class=\"colab-df-container\">\n",
              "    <div>\n",
              "<style scoped>\n",
              "    .dataframe tbody tr th:only-of-type {\n",
              "        vertical-align: middle;\n",
              "    }\n",
              "\n",
              "    .dataframe tbody tr th {\n",
              "        vertical-align: top;\n",
              "    }\n",
              "\n",
              "    .dataframe thead th {\n",
              "        text-align: right;\n",
              "    }\n",
              "</style>\n",
              "<table border=\"1\" class=\"dataframe\">\n",
              "  <thead>\n",
              "    <tr style=\"text-align: right;\">\n",
              "      <th></th>\n",
              "      <th>Id</th>\n",
              "      <th>Categories</th>\n",
              "      <th>math.AT</th>\n",
              "      <th>stat.AP</th>\n",
              "      <th>cs.AR</th>\n",
              "      <th>math.QA</th>\n",
              "      <th>q-bio.MN</th>\n",
              "      <th>eess.AS</th>\n",
              "      <th>eess.IV</th>\n",
              "      <th>stat.ME</th>\n",
              "      <th>...</th>\n",
              "      <th>cs.RO</th>\n",
              "      <th>stat.TH</th>\n",
              "      <th>cs.DB</th>\n",
              "      <th>math.ST</th>\n",
              "      <th>q-bio.GN</th>\n",
              "      <th>q-fin.PM</th>\n",
              "      <th>q-bio.TO</th>\n",
              "      <th>math.GR</th>\n",
              "      <th>cs.IR</th>\n",
              "      <th>comb</th>\n",
              "    </tr>\n",
              "  </thead>\n",
              "  <tbody>\n",
              "    <tr>\n",
              "      <th>0</th>\n",
              "      <td>9707</td>\n",
              "      <td>['cs.LO']</td>\n",
              "      <td>0.0</td>\n",
              "      <td>0.0</td>\n",
              "      <td>0.0</td>\n",
              "      <td>0.0</td>\n",
              "      <td>0.0</td>\n",
              "      <td>0.0</td>\n",
              "      <td>0.0</td>\n",
              "      <td>0.0</td>\n",
              "      <td>...</td>\n",
              "      <td>0.0</td>\n",
              "      <td>0.0</td>\n",
              "      <td>0.0</td>\n",
              "      <td>0.0</td>\n",
              "      <td>0.0</td>\n",
              "      <td>0.0</td>\n",
              "      <td>0.0</td>\n",
              "      <td>0.0</td>\n",
              "      <td>0.0</td>\n",
              "      <td>Axiomatic Aspects of Default Inference This pa...</td>\n",
              "    </tr>\n",
              "    <tr>\n",
              "      <th>1</th>\n",
              "      <td>24198</td>\n",
              "      <td>['math.GR']</td>\n",
              "      <td>0.0</td>\n",
              "      <td>0.0</td>\n",
              "      <td>0.0</td>\n",
              "      <td>0.0</td>\n",
              "      <td>0.0</td>\n",
              "      <td>0.0</td>\n",
              "      <td>0.0</td>\n",
              "      <td>0.0</td>\n",
              "      <td>...</td>\n",
              "      <td>0.0</td>\n",
              "      <td>0.0</td>\n",
              "      <td>0.0</td>\n",
              "      <td>0.0</td>\n",
              "      <td>0.0</td>\n",
              "      <td>0.0</td>\n",
              "      <td>0.0</td>\n",
              "      <td>1.0</td>\n",
              "      <td>0.0</td>\n",
              "      <td>On extensions of group with infinite conjugacy...</td>\n",
              "    </tr>\n",
              "    <tr>\n",
              "      <th>2</th>\n",
              "      <td>35766</td>\n",
              "      <td>['cs.LG', 'cs.IT', 'eess.SP', 'math.IT']</td>\n",
              "      <td>0.0</td>\n",
              "      <td>0.0</td>\n",
              "      <td>0.0</td>\n",
              "      <td>0.0</td>\n",
              "      <td>0.0</td>\n",
              "      <td>0.0</td>\n",
              "      <td>0.0</td>\n",
              "      <td>0.0</td>\n",
              "      <td>...</td>\n",
              "      <td>0.0</td>\n",
              "      <td>0.0</td>\n",
              "      <td>0.0</td>\n",
              "      <td>0.0</td>\n",
              "      <td>0.0</td>\n",
              "      <td>0.0</td>\n",
              "      <td>0.0</td>\n",
              "      <td>0.0</td>\n",
              "      <td>0.0</td>\n",
              "      <td>An Analysis of ComplexValued CNNs for RF DataD...</td>\n",
              "    </tr>\n",
              "    <tr>\n",
              "      <th>3</th>\n",
              "      <td>14322</td>\n",
              "      <td>['math.PR', 'math.ST', 'stat.TH']</td>\n",
              "      <td>0.0</td>\n",
              "      <td>0.0</td>\n",
              "      <td>0.0</td>\n",
              "      <td>0.0</td>\n",
              "      <td>0.0</td>\n",
              "      <td>0.0</td>\n",
              "      <td>0.0</td>\n",
              "      <td>0.0</td>\n",
              "      <td>...</td>\n",
              "      <td>0.0</td>\n",
              "      <td>1.0</td>\n",
              "      <td>0.0</td>\n",
              "      <td>1.0</td>\n",
              "      <td>0.0</td>\n",
              "      <td>0.0</td>\n",
              "      <td>0.0</td>\n",
              "      <td>0.0</td>\n",
              "      <td>0.0</td>\n",
              "      <td>On the reconstruction of the drift of a diffus...</td>\n",
              "    </tr>\n",
              "    <tr>\n",
              "      <th>4</th>\n",
              "      <td>709</td>\n",
              "      <td>['cs.IT', 'math.IT']</td>\n",
              "      <td>0.0</td>\n",
              "      <td>0.0</td>\n",
              "      <td>0.0</td>\n",
              "      <td>0.0</td>\n",
              "      <td>0.0</td>\n",
              "      <td>0.0</td>\n",
              "      <td>0.0</td>\n",
              "      <td>0.0</td>\n",
              "      <td>...</td>\n",
              "      <td>0.0</td>\n",
              "      <td>0.0</td>\n",
              "      <td>0.0</td>\n",
              "      <td>0.0</td>\n",
              "      <td>0.0</td>\n",
              "      <td>0.0</td>\n",
              "      <td>0.0</td>\n",
              "      <td>0.0</td>\n",
              "      <td>0.0</td>\n",
              "      <td>Three classes of propagation rules for GRS and...</td>\n",
              "    </tr>\n",
              "  </tbody>\n",
              "</table>\n",
              "<p>5 rows × 60 columns</p>\n",
              "</div>\n",
              "    <div class=\"colab-df-buttons\">\n",
              "\n",
              "  <div class=\"colab-df-container\">\n",
              "    <button class=\"colab-df-convert\" onclick=\"convertToInteractive('df-7c9ae9d6-4011-43d7-b48c-17e4d41d5f14')\"\n",
              "            title=\"Convert this dataframe to an interactive table.\"\n",
              "            style=\"display:none;\">\n",
              "\n",
              "  <svg xmlns=\"http://www.w3.org/2000/svg\" height=\"24px\" viewBox=\"0 -960 960 960\">\n",
              "    <path d=\"M120-120v-720h720v720H120Zm60-500h600v-160H180v160Zm220 220h160v-160H400v160Zm0 220h160v-160H400v160ZM180-400h160v-160H180v160Zm440 0h160v-160H620v160ZM180-180h160v-160H180v160Zm440 0h160v-160H620v160Z\"/>\n",
              "  </svg>\n",
              "    </button>\n",
              "\n",
              "  <style>\n",
              "    .colab-df-container {\n",
              "      display:flex;\n",
              "      gap: 12px;\n",
              "    }\n",
              "\n",
              "    .colab-df-convert {\n",
              "      background-color: #E8F0FE;\n",
              "      border: none;\n",
              "      border-radius: 50%;\n",
              "      cursor: pointer;\n",
              "      display: none;\n",
              "      fill: #1967D2;\n",
              "      height: 32px;\n",
              "      padding: 0 0 0 0;\n",
              "      width: 32px;\n",
              "    }\n",
              "\n",
              "    .colab-df-convert:hover {\n",
              "      background-color: #E2EBFA;\n",
              "      box-shadow: 0px 1px 2px rgba(60, 64, 67, 0.3), 0px 1px 3px 1px rgba(60, 64, 67, 0.15);\n",
              "      fill: #174EA6;\n",
              "    }\n",
              "\n",
              "    .colab-df-buttons div {\n",
              "      margin-bottom: 4px;\n",
              "    }\n",
              "\n",
              "    [theme=dark] .colab-df-convert {\n",
              "      background-color: #3B4455;\n",
              "      fill: #D2E3FC;\n",
              "    }\n",
              "\n",
              "    [theme=dark] .colab-df-convert:hover {\n",
              "      background-color: #434B5C;\n",
              "      box-shadow: 0px 1px 3px 1px rgba(0, 0, 0, 0.15);\n",
              "      filter: drop-shadow(0px 1px 2px rgba(0, 0, 0, 0.3));\n",
              "      fill: #FFFFFF;\n",
              "    }\n",
              "  </style>\n",
              "\n",
              "    <script>\n",
              "      const buttonEl =\n",
              "        document.querySelector('#df-7c9ae9d6-4011-43d7-b48c-17e4d41d5f14 button.colab-df-convert');\n",
              "      buttonEl.style.display =\n",
              "        google.colab.kernel.accessAllowed ? 'block' : 'none';\n",
              "\n",
              "      async function convertToInteractive(key) {\n",
              "        const element = document.querySelector('#df-7c9ae9d6-4011-43d7-b48c-17e4d41d5f14');\n",
              "        const dataTable =\n",
              "          await google.colab.kernel.invokeFunction('convertToInteractive',\n",
              "                                                    [key], {});\n",
              "        if (!dataTable) return;\n",
              "\n",
              "        const docLinkHtml = 'Like what you see? Visit the ' +\n",
              "          '<a target=\"_blank\" href=https://colab.research.google.com/notebooks/data_table.ipynb>data table notebook</a>'\n",
              "          + ' to learn more about interactive tables.';\n",
              "        element.innerHTML = '';\n",
              "        dataTable['output_type'] = 'display_data';\n",
              "        await google.colab.output.renderOutput(dataTable, element);\n",
              "        const docLink = document.createElement('div');\n",
              "        docLink.innerHTML = docLinkHtml;\n",
              "        element.appendChild(docLink);\n",
              "      }\n",
              "    </script>\n",
              "  </div>\n",
              "\n",
              "\n",
              "<div id=\"df-dd4911a7-6c07-4cc0-9afd-94180169e1ca\">\n",
              "  <button class=\"colab-df-quickchart\" onclick=\"quickchart('df-dd4911a7-6c07-4cc0-9afd-94180169e1ca')\"\n",
              "            title=\"Suggest charts\"\n",
              "            style=\"display:none;\">\n",
              "\n",
              "<svg xmlns=\"http://www.w3.org/2000/svg\" height=\"24px\"viewBox=\"0 0 24 24\"\n",
              "     width=\"24px\">\n",
              "    <g>\n",
              "        <path d=\"M19 3H5c-1.1 0-2 .9-2 2v14c0 1.1.9 2 2 2h14c1.1 0 2-.9 2-2V5c0-1.1-.9-2-2-2zM9 17H7v-7h2v7zm4 0h-2V7h2v10zm4 0h-2v-4h2v4z\"/>\n",
              "    </g>\n",
              "</svg>\n",
              "  </button>\n",
              "\n",
              "<style>\n",
              "  .colab-df-quickchart {\n",
              "      --bg-color: #E8F0FE;\n",
              "      --fill-color: #1967D2;\n",
              "      --hover-bg-color: #E2EBFA;\n",
              "      --hover-fill-color: #174EA6;\n",
              "      --disabled-fill-color: #AAA;\n",
              "      --disabled-bg-color: #DDD;\n",
              "  }\n",
              "\n",
              "  [theme=dark] .colab-df-quickchart {\n",
              "      --bg-color: #3B4455;\n",
              "      --fill-color: #D2E3FC;\n",
              "      --hover-bg-color: #434B5C;\n",
              "      --hover-fill-color: #FFFFFF;\n",
              "      --disabled-bg-color: #3B4455;\n",
              "      --disabled-fill-color: #666;\n",
              "  }\n",
              "\n",
              "  .colab-df-quickchart {\n",
              "    background-color: var(--bg-color);\n",
              "    border: none;\n",
              "    border-radius: 50%;\n",
              "    cursor: pointer;\n",
              "    display: none;\n",
              "    fill: var(--fill-color);\n",
              "    height: 32px;\n",
              "    padding: 0;\n",
              "    width: 32px;\n",
              "  }\n",
              "\n",
              "  .colab-df-quickchart:hover {\n",
              "    background-color: var(--hover-bg-color);\n",
              "    box-shadow: 0 1px 2px rgba(60, 64, 67, 0.3), 0 1px 3px 1px rgba(60, 64, 67, 0.15);\n",
              "    fill: var(--button-hover-fill-color);\n",
              "  }\n",
              "\n",
              "  .colab-df-quickchart-complete:disabled,\n",
              "  .colab-df-quickchart-complete:disabled:hover {\n",
              "    background-color: var(--disabled-bg-color);\n",
              "    fill: var(--disabled-fill-color);\n",
              "    box-shadow: none;\n",
              "  }\n",
              "\n",
              "  .colab-df-spinner {\n",
              "    border: 2px solid var(--fill-color);\n",
              "    border-color: transparent;\n",
              "    border-bottom-color: var(--fill-color);\n",
              "    animation:\n",
              "      spin 1s steps(1) infinite;\n",
              "  }\n",
              "\n",
              "  @keyframes spin {\n",
              "    0% {\n",
              "      border-color: transparent;\n",
              "      border-bottom-color: var(--fill-color);\n",
              "      border-left-color: var(--fill-color);\n",
              "    }\n",
              "    20% {\n",
              "      border-color: transparent;\n",
              "      border-left-color: var(--fill-color);\n",
              "      border-top-color: var(--fill-color);\n",
              "    }\n",
              "    30% {\n",
              "      border-color: transparent;\n",
              "      border-left-color: var(--fill-color);\n",
              "      border-top-color: var(--fill-color);\n",
              "      border-right-color: var(--fill-color);\n",
              "    }\n",
              "    40% {\n",
              "      border-color: transparent;\n",
              "      border-right-color: var(--fill-color);\n",
              "      border-top-color: var(--fill-color);\n",
              "    }\n",
              "    60% {\n",
              "      border-color: transparent;\n",
              "      border-right-color: var(--fill-color);\n",
              "    }\n",
              "    80% {\n",
              "      border-color: transparent;\n",
              "      border-right-color: var(--fill-color);\n",
              "      border-bottom-color: var(--fill-color);\n",
              "    }\n",
              "    90% {\n",
              "      border-color: transparent;\n",
              "      border-bottom-color: var(--fill-color);\n",
              "    }\n",
              "  }\n",
              "</style>\n",
              "\n",
              "  <script>\n",
              "    async function quickchart(key) {\n",
              "      const quickchartButtonEl =\n",
              "        document.querySelector('#' + key + ' button');\n",
              "      quickchartButtonEl.disabled = true;  // To prevent multiple clicks.\n",
              "      quickchartButtonEl.classList.add('colab-df-spinner');\n",
              "      try {\n",
              "        const charts = await google.colab.kernel.invokeFunction(\n",
              "            'suggestCharts', [key], {});\n",
              "      } catch (error) {\n",
              "        console.error('Error during call to suggestCharts:', error);\n",
              "      }\n",
              "      quickchartButtonEl.classList.remove('colab-df-spinner');\n",
              "      quickchartButtonEl.classList.add('colab-df-quickchart-complete');\n",
              "    }\n",
              "    (() => {\n",
              "      let quickchartButtonEl =\n",
              "        document.querySelector('#df-dd4911a7-6c07-4cc0-9afd-94180169e1ca button');\n",
              "      quickchartButtonEl.style.display =\n",
              "        google.colab.kernel.accessAllowed ? 'block' : 'none';\n",
              "    })();\n",
              "  </script>\n",
              "</div>\n",
              "\n",
              "    </div>\n",
              "  </div>\n"
            ],
            "text/plain": [
              "      Id                                Categories  math.AT  stat.AP  cs.AR  \\\n",
              "0   9707                                 ['cs.LO']      0.0      0.0    0.0   \n",
              "1  24198                               ['math.GR']      0.0      0.0    0.0   \n",
              "2  35766  ['cs.LG', 'cs.IT', 'eess.SP', 'math.IT']      0.0      0.0    0.0   \n",
              "3  14322         ['math.PR', 'math.ST', 'stat.TH']      0.0      0.0    0.0   \n",
              "4    709                      ['cs.IT', 'math.IT']      0.0      0.0    0.0   \n",
              "\n",
              "   math.QA  q-bio.MN  eess.AS  eess.IV  stat.ME  ...  cs.RO  stat.TH  cs.DB  \\\n",
              "0      0.0       0.0      0.0      0.0      0.0  ...    0.0      0.0    0.0   \n",
              "1      0.0       0.0      0.0      0.0      0.0  ...    0.0      0.0    0.0   \n",
              "2      0.0       0.0      0.0      0.0      0.0  ...    0.0      0.0    0.0   \n",
              "3      0.0       0.0      0.0      0.0      0.0  ...    0.0      1.0    0.0   \n",
              "4      0.0       0.0      0.0      0.0      0.0  ...    0.0      0.0    0.0   \n",
              "\n",
              "   math.ST  q-bio.GN  q-fin.PM  q-bio.TO  math.GR  cs.IR  \\\n",
              "0      0.0       0.0       0.0       0.0      0.0    0.0   \n",
              "1      0.0       0.0       0.0       0.0      1.0    0.0   \n",
              "2      0.0       0.0       0.0       0.0      0.0    0.0   \n",
              "3      1.0       0.0       0.0       0.0      0.0    0.0   \n",
              "4      0.0       0.0       0.0       0.0      0.0    0.0   \n",
              "\n",
              "                                                comb  \n",
              "0  Axiomatic Aspects of Default Inference This pa...  \n",
              "1  On extensions of group with infinite conjugacy...  \n",
              "2  An Analysis of ComplexValued CNNs for RF DataD...  \n",
              "3  On the reconstruction of the drift of a diffus...  \n",
              "4  Three classes of propagation rules for GRS and...  \n",
              "\n",
              "[5 rows x 60 columns]"
            ]
          },
          "execution_count": 34,
          "metadata": {},
          "output_type": "execute_result"
        }
      ],
      "source": [
        "df.head()"
      ]
    },
    {
      "cell_type": "code",
      "execution_count": null,
      "metadata": {
        "colab": {
          "background_save": true,
          "base_uri": "https://localhost:8080/"
        },
        "id": "QYAUqP4An0I8",
        "outputId": "70cb1e08-0f4e-4be1-fece-4f13d32b8be5"
      },
      "outputs": [
        {
          "name": "stderr",
          "output_type": "stream",
          "text": [
            "/usr/local/lib/python3.10/dist-packages/lightgbm/engine.py:172: UserWarning: Found `n_iter` in params. Will use it instead of argument\n",
            "  _log_warning(f\"Found `{alias}` in params. Will use it instead of argument\")\n"
          ]
        },
        {
          "name": "stdout",
          "output_type": "stream",
          "text": [
            "[LightGBM] [Warning] num_iterations is set=200, n_iter=200 will be ignored. Current value: num_iterations=200\n",
            "[LightGBM] [Info] Number of positive: 569, number of negative: 50641\n",
            "[LightGBM] [Info] Auto-choosing col-wise multi-threading, the overhead of testing was 14.270814 seconds.\n",
            "You can set `force_col_wise=true` to remove the overhead.\n",
            "[LightGBM] [Info] Total Bins 665269\n",
            "[LightGBM] [Info] Number of data points in the train set: 51210, number of used features: 10978\n",
            "[LightGBM] [Info] [binary:BoostFromScore]: pavg=0.011111 -> initscore=-4.488636\n",
            "[LightGBM] [Info] Start training from score -4.488636\n"
          ]
        },
        {
          "name": "stderr",
          "output_type": "stream",
          "text": [
            "/usr/local/lib/python3.10/dist-packages/lightgbm/engine.py:172: UserWarning: Found `n_iter` in params. Will use it instead of argument\n",
            "  _log_warning(f\"Found `{alias}` in params. Will use it instead of argument\")\n"
          ]
        },
        {
          "name": "stdout",
          "output_type": "stream",
          "text": [
            "[LightGBM] [Warning] num_iterations is set=200, n_iter=200 will be ignored. Current value: num_iterations=200\n",
            "[LightGBM] [Info] Number of positive: 858, number of negative: 50352\n",
            "[LightGBM] [Info] Auto-choosing col-wise multi-threading, the overhead of testing was 14.378333 seconds.\n",
            "You can set `force_col_wise=true` to remove the overhead.\n",
            "[LightGBM] [Info] Total Bins 665269\n",
            "[LightGBM] [Info] Number of data points in the train set: 51210, number of used features: 10978\n",
            "[LightGBM] [Info] [binary:BoostFromScore]: pavg=0.016755 -> initscore=-4.072190\n",
            "[LightGBM] [Info] Start training from score -4.072190\n"
          ]
        },
        {
          "name": "stderr",
          "output_type": "stream",
          "text": [
            "/usr/local/lib/python3.10/dist-packages/lightgbm/engine.py:172: UserWarning: Found `n_iter` in params. Will use it instead of argument\n",
            "  _log_warning(f\"Found `{alias}` in params. Will use it instead of argument\")\n"
          ]
        },
        {
          "name": "stdout",
          "output_type": "stream",
          "text": [
            "[LightGBM] [Warning] num_iterations is set=200, n_iter=200 will be ignored. Current value: num_iterations=200\n",
            "[LightGBM] [Info] Number of positive: 465, number of negative: 50745\n",
            "[LightGBM] [Info] Auto-choosing row-wise multi-threading, the overhead of testing was 14.382610 seconds.\n",
            "You can set `force_row_wise=true` to remove the overhead.\n",
            "And if memory is not enough, you can set `force_col_wise=true`.\n",
            "[LightGBM] [Info] Total Bins 665269\n",
            "[LightGBM] [Info] Number of data points in the train set: 51210, number of used features: 10978\n",
            "[LightGBM] [Info] [binary:BoostFromScore]: pavg=0.009080 -> initscore=-4.692531\n",
            "[LightGBM] [Info] Start training from score -4.692531\n"
          ]
        },
        {
          "name": "stderr",
          "output_type": "stream",
          "text": [
            "/usr/local/lib/python3.10/dist-packages/lightgbm/engine.py:172: UserWarning: Found `n_iter` in params. Will use it instead of argument\n",
            "  _log_warning(f\"Found `{alias}` in params. Will use it instead of argument\")\n"
          ]
        },
        {
          "name": "stdout",
          "output_type": "stream",
          "text": [
            "[LightGBM] [Warning] num_iterations is set=200, n_iter=200 will be ignored. Current value: num_iterations=200\n",
            "[LightGBM] [Info] Number of positive: 1657, number of negative: 49553\n",
            "[LightGBM] [Info] Auto-choosing col-wise multi-threading, the overhead of testing was 13.937075 seconds.\n",
            "You can set `force_col_wise=true` to remove the overhead.\n",
            "[LightGBM] [Info] Total Bins 665269\n",
            "[LightGBM] [Info] Number of data points in the train set: 51210, number of used features: 10978\n",
            "[LightGBM] [Info] [binary:BoostFromScore]: pavg=0.032357 -> initscore=-3.398034\n",
            "[LightGBM] [Info] Start training from score -3.398034\n"
          ]
        },
        {
          "name": "stderr",
          "output_type": "stream",
          "text": [
            "/usr/local/lib/python3.10/dist-packages/lightgbm/engine.py:172: UserWarning: Found `n_iter` in params. Will use it instead of argument\n",
            "  _log_warning(f\"Found `{alias}` in params. Will use it instead of argument\")\n"
          ]
        },
        {
          "name": "stdout",
          "output_type": "stream",
          "text": [
            "[LightGBM] [Warning] num_iterations is set=200, n_iter=200 will be ignored. Current value: num_iterations=200\n",
            "[LightGBM] [Info] Number of positive: 281, number of negative: 50929\n",
            "[LightGBM] [Info] Auto-choosing col-wise multi-threading, the overhead of testing was 14.148847 seconds.\n",
            "You can set `force_col_wise=true` to remove the overhead.\n",
            "[LightGBM] [Info] Total Bins 665269\n",
            "[LightGBM] [Info] Number of data points in the train set: 51210, number of used features: 10978\n",
            "[LightGBM] [Info] [binary:BoostFromScore]: pavg=0.005487 -> initscore=-5.199833\n",
            "[LightGBM] [Info] Start training from score -5.199833\n"
          ]
        },
        {
          "name": "stderr",
          "output_type": "stream",
          "text": [
            "/usr/local/lib/python3.10/dist-packages/lightgbm/engine.py:172: UserWarning: Found `n_iter` in params. Will use it instead of argument\n",
            "  _log_warning(f\"Found `{alias}` in params. Will use it instead of argument\")\n"
          ]
        },
        {
          "name": "stdout",
          "output_type": "stream",
          "text": [
            "[LightGBM] [Warning] num_iterations is set=200, n_iter=200 will be ignored. Current value: num_iterations=200\n",
            "[LightGBM] [Info] Number of positive: 3199, number of negative: 48011\n",
            "[LightGBM] [Info] Auto-choosing col-wise multi-threading, the overhead of testing was 14.130209 seconds.\n",
            "You can set `force_col_wise=true` to remove the overhead.\n",
            "[LightGBM] [Info] Total Bins 665269\n",
            "[LightGBM] [Info] Number of data points in the train set: 51210, number of used features: 10978\n",
            "[LightGBM] [Info] [binary:BoostFromScore]: pavg=0.062468 -> initscore=-2.708592\n",
            "[LightGBM] [Info] Start training from score -2.708592\n"
          ]
        },
        {
          "name": "stderr",
          "output_type": "stream",
          "text": [
            "/usr/local/lib/python3.10/dist-packages/lightgbm/engine.py:172: UserWarning: Found `n_iter` in params. Will use it instead of argument\n",
            "  _log_warning(f\"Found `{alias}` in params. Will use it instead of argument\")\n"
          ]
        },
        {
          "name": "stdout",
          "output_type": "stream",
          "text": [
            "[LightGBM] [Warning] num_iterations is set=200, n_iter=200 will be ignored. Current value: num_iterations=200\n",
            "[LightGBM] [Info] Number of positive: 1633, number of negative: 49577\n",
            "[LightGBM] [Info] Auto-choosing col-wise multi-threading, the overhead of testing was 14.232144 seconds.\n",
            "You can set `force_col_wise=true` to remove the overhead.\n",
            "[LightGBM] [Info] Total Bins 665269\n",
            "[LightGBM] [Info] Number of data points in the train set: 51210, number of used features: 10978\n",
            "[LightGBM] [Info] [binary:BoostFromScore]: pavg=0.031888 -> initscore=-3.413108\n",
            "[LightGBM] [Info] Start training from score -3.413108\n"
          ]
        },
        {
          "name": "stderr",
          "output_type": "stream",
          "text": [
            "/usr/local/lib/python3.10/dist-packages/lightgbm/engine.py:172: UserWarning: Found `n_iter` in params. Will use it instead of argument\n",
            "  _log_warning(f\"Found `{alias}` in params. Will use it instead of argument\")\n"
          ]
        },
        {
          "name": "stdout",
          "output_type": "stream",
          "text": [
            "[LightGBM] [Warning] num_iterations is set=200, n_iter=200 will be ignored. Current value: num_iterations=200\n",
            "[LightGBM] [Info] Number of positive: 1614, number of negative: 49596\n",
            "[LightGBM] [Info] Auto-choosing row-wise multi-threading, the overhead of testing was 14.548982 seconds.\n",
            "You can set `force_row_wise=true` to remove the overhead.\n",
            "And if memory is not enough, you can set `force_col_wise=true`.\n",
            "[LightGBM] [Info] Total Bins 665269\n",
            "[LightGBM] [Info] Number of data points in the train set: 51210, number of used features: 10978\n",
            "[LightGBM] [Info] [binary:BoostFromScore]: pavg=0.031517 -> initscore=-3.425195\n",
            "[LightGBM] [Info] Start training from score -3.425195\n"
          ]
        },
        {
          "name": "stderr",
          "output_type": "stream",
          "text": [
            "/usr/local/lib/python3.10/dist-packages/lightgbm/engine.py:172: UserWarning: Found `n_iter` in params. Will use it instead of argument\n",
            "  _log_warning(f\"Found `{alias}` in params. Will use it instead of argument\")\n"
          ]
        },
        {
          "name": "stdout",
          "output_type": "stream",
          "text": [
            "[LightGBM] [Warning] num_iterations is set=200, n_iter=200 will be ignored. Current value: num_iterations=200\n",
            "[LightGBM] [Info] Number of positive: 539, number of negative: 50671\n",
            "[LightGBM] [Info] Auto-choosing row-wise multi-threading, the overhead of testing was 14.450570 seconds.\n",
            "You can set `force_row_wise=true` to remove the overhead.\n",
            "And if memory is not enough, you can set `force_col_wise=true`.\n",
            "[LightGBM] [Info] Total Bins 665269\n",
            "[LightGBM] [Info] Number of data points in the train set: 51210, number of used features: 10978\n",
            "[LightGBM] [Info] [binary:BoostFromScore]: pavg=0.010525 -> initscore=-4.543393\n",
            "[LightGBM] [Info] Start training from score -4.543393\n"
          ]
        },
        {
          "name": "stderr",
          "output_type": "stream",
          "text": [
            "/usr/local/lib/python3.10/dist-packages/lightgbm/engine.py:172: UserWarning: Found `n_iter` in params. Will use it instead of argument\n",
            "  _log_warning(f\"Found `{alias}` in params. Will use it instead of argument\")\n"
          ]
        },
        {
          "name": "stdout",
          "output_type": "stream",
          "text": [
            "[LightGBM] [Warning] num_iterations is set=200, n_iter=200 will be ignored. Current value: num_iterations=200\n",
            "[LightGBM] [Info] Number of positive: 1996, number of negative: 49214\n",
            "[LightGBM] [Info] Auto-choosing row-wise multi-threading, the overhead of testing was 14.361100 seconds.\n",
            "You can set `force_row_wise=true` to remove the overhead.\n",
            "And if memory is not enough, you can set `force_col_wise=true`.\n",
            "[LightGBM] [Info] Total Bins 665269\n",
            "[LightGBM] [Info] Number of data points in the train set: 51210, number of used features: 10978\n",
            "[LightGBM] [Info] [binary:BoostFromScore]: pavg=0.038977 -> initscore=-3.205033\n",
            "[LightGBM] [Info] Start training from score -3.205033\n"
          ]
        },
        {
          "name": "stderr",
          "output_type": "stream",
          "text": [
            "/usr/local/lib/python3.10/dist-packages/lightgbm/engine.py:172: UserWarning: Found `n_iter` in params. Will use it instead of argument\n",
            "  _log_warning(f\"Found `{alias}` in params. Will use it instead of argument\")\n"
          ]
        },
        {
          "name": "stdout",
          "output_type": "stream",
          "text": [
            "[LightGBM] [Warning] num_iterations is set=200, n_iter=200 will be ignored. Current value: num_iterations=200\n",
            "[LightGBM] [Info] Number of positive: 475, number of negative: 50735\n",
            "[LightGBM] [Info] Auto-choosing col-wise multi-threading, the overhead of testing was 13.929050 seconds.\n",
            "You can set `force_col_wise=true` to remove the overhead.\n",
            "[LightGBM] [Info] Total Bins 665269\n",
            "[LightGBM] [Info] Number of data points in the train set: 51210, number of used features: 10978\n",
            "[LightGBM] [Info] [binary:BoostFromScore]: pavg=0.009276 -> initscore=-4.671056\n",
            "[LightGBM] [Info] Start training from score -4.671056\n"
          ]
        },
        {
          "name": "stderr",
          "output_type": "stream",
          "text": [
            "/usr/local/lib/python3.10/dist-packages/lightgbm/engine.py:172: UserWarning: Found `n_iter` in params. Will use it instead of argument\n",
            "  _log_warning(f\"Found `{alias}` in params. Will use it instead of argument\")\n"
          ]
        },
        {
          "name": "stdout",
          "output_type": "stream",
          "text": [
            "[LightGBM] [Warning] num_iterations is set=200, n_iter=200 will be ignored. Current value: num_iterations=200\n",
            "[LightGBM] [Info] Number of positive: 12905, number of negative: 38305\n",
            "[LightGBM] [Info] Auto-choosing col-wise multi-threading, the overhead of testing was 14.104395 seconds.\n",
            "You can set `force_col_wise=true` to remove the overhead.\n",
            "[LightGBM] [Info] Total Bins 665269\n",
            "[LightGBM] [Info] Number of data points in the train set: 51210, number of used features: 10978\n",
            "[LightGBM] [Info] [binary:BoostFromScore]: pavg=0.252002 -> initscore=-1.087966\n",
            "[LightGBM] [Info] Start training from score -1.087966\n"
          ]
        },
        {
          "name": "stderr",
          "output_type": "stream",
          "text": [
            "/usr/local/lib/python3.10/dist-packages/lightgbm/engine.py:172: UserWarning: Found `n_iter` in params. Will use it instead of argument\n",
            "  _log_warning(f\"Found `{alias}` in params. Will use it instead of argument\")\n"
          ]
        },
        {
          "name": "stdout",
          "output_type": "stream",
          "text": [
            "[LightGBM] [Warning] num_iterations is set=200, n_iter=200 will be ignored. Current value: num_iterations=200\n",
            "[LightGBM] [Info] Number of positive: 2630, number of negative: 48580\n",
            "[LightGBM] [Info] Auto-choosing col-wise multi-threading, the overhead of testing was 14.099532 seconds.\n",
            "You can set `force_col_wise=true` to remove the overhead.\n",
            "[LightGBM] [Info] Total Bins 665269\n",
            "[LightGBM] [Info] Number of data points in the train set: 51210, number of used features: 10978\n",
            "[LightGBM] [Info] [binary:BoostFromScore]: pavg=0.051357 -> initscore=-2.916228\n",
            "[LightGBM] [Info] Start training from score -2.916228\n"
          ]
        },
        {
          "name": "stderr",
          "output_type": "stream",
          "text": [
            "/usr/local/lib/python3.10/dist-packages/lightgbm/engine.py:172: UserWarning: Found `n_iter` in params. Will use it instead of argument\n",
            "  _log_warning(f\"Found `{alias}` in params. Will use it instead of argument\")\n"
          ]
        },
        {
          "name": "stdout",
          "output_type": "stream",
          "text": [
            "[LightGBM] [Warning] num_iterations is set=200, n_iter=200 will be ignored. Current value: num_iterations=200\n",
            "[LightGBM] [Info] Number of positive: 394, number of negative: 50816\n",
            "[LightGBM] [Info] Auto-choosing row-wise multi-threading, the overhead of testing was 14.696634 seconds.\n",
            "You can set `force_row_wise=true` to remove the overhead.\n",
            "And if memory is not enough, you can set `force_col_wise=true`.\n",
            "[LightGBM] [Info] Total Bins 665269\n",
            "[LightGBM] [Info] Number of data points in the train set: 51210, number of used features: 10978\n",
            "[LightGBM] [Info] [binary:BoostFromScore]: pavg=0.007694 -> initscore=-4.859616\n",
            "[LightGBM] [Info] Start training from score -4.859616\n"
          ]
        },
        {
          "name": "stderr",
          "output_type": "stream",
          "text": [
            "/usr/local/lib/python3.10/dist-packages/lightgbm/engine.py:172: UserWarning: Found `n_iter` in params. Will use it instead of argument\n",
            "  _log_warning(f\"Found `{alias}` in params. Will use it instead of argument\")\n"
          ]
        },
        {
          "name": "stdout",
          "output_type": "stream",
          "text": [
            "[LightGBM] [Warning] num_iterations is set=200, n_iter=200 will be ignored. Current value: num_iterations=200\n",
            "[LightGBM] [Info] Number of positive: 272, number of negative: 50938\n",
            "[LightGBM] [Info] Auto-choosing row-wise multi-threading, the overhead of testing was 14.688350 seconds.\n",
            "You can set `force_row_wise=true` to remove the overhead.\n",
            "And if memory is not enough, you can set `force_col_wise=true`.\n",
            "[LightGBM] [Info] Total Bins 665269\n",
            "[LightGBM] [Info] Number of data points in the train set: 51210, number of used features: 10978\n",
            "[LightGBM] [Info] [binary:BoostFromScore]: pavg=0.005311 -> initscore=-5.232562\n",
            "[LightGBM] [Info] Start training from score -5.232562\n"
          ]
        },
        {
          "name": "stderr",
          "output_type": "stream",
          "text": [
            "/usr/local/lib/python3.10/dist-packages/lightgbm/engine.py:172: UserWarning: Found `n_iter` in params. Will use it instead of argument\n",
            "  _log_warning(f\"Found `{alias}` in params. Will use it instead of argument\")\n"
          ]
        },
        {
          "name": "stdout",
          "output_type": "stream",
          "text": [
            "[LightGBM] [Warning] num_iterations is set=200, n_iter=200 will be ignored. Current value: num_iterations=200\n",
            "[LightGBM] [Info] Number of positive: 485, number of negative: 50725\n",
            "[LightGBM] [Info] Auto-choosing row-wise multi-threading, the overhead of testing was 14.360968 seconds.\n",
            "You can set `force_row_wise=true` to remove the overhead.\n",
            "And if memory is not enough, you can set `force_col_wise=true`.\n",
            "[LightGBM] [Info] Total Bins 665269\n",
            "[LightGBM] [Info] Number of data points in the train set: 51210, number of used features: 10978\n",
            "[LightGBM] [Info] [binary:BoostFromScore]: pavg=0.009471 -> initscore=-4.650025\n",
            "[LightGBM] [Info] Start training from score -4.650025\n"
          ]
        },
        {
          "name": "stderr",
          "output_type": "stream",
          "text": [
            "/usr/local/lib/python3.10/dist-packages/lightgbm/engine.py:172: UserWarning: Found `n_iter` in params. Will use it instead of argument\n",
            "  _log_warning(f\"Found `{alias}` in params. Will use it instead of argument\")\n"
          ]
        },
        {
          "name": "stdout",
          "output_type": "stream",
          "text": [
            "[LightGBM] [Warning] num_iterations is set=200, n_iter=200 will be ignored. Current value: num_iterations=200\n",
            "[LightGBM] [Info] Number of positive: 524, number of negative: 50686\n",
            "[LightGBM] [Info] Auto-choosing col-wise multi-threading, the overhead of testing was 14.025059 seconds.\n",
            "You can set `force_col_wise=true` to remove the overhead.\n",
            "[LightGBM] [Info] Total Bins 665269\n",
            "[LightGBM] [Info] Number of data points in the train set: 51210, number of used features: 10978\n",
            "[LightGBM] [Info] [binary:BoostFromScore]: pavg=0.010232 -> initscore=-4.571913\n",
            "[LightGBM] [Info] Start training from score -4.571913\n"
          ]
        },
        {
          "name": "stderr",
          "output_type": "stream",
          "text": [
            "/usr/local/lib/python3.10/dist-packages/lightgbm/engine.py:172: UserWarning: Found `n_iter` in params. Will use it instead of argument\n",
            "  _log_warning(f\"Found `{alias}` in params. Will use it instead of argument\")\n"
          ]
        },
        {
          "name": "stdout",
          "output_type": "stream",
          "text": [
            "[LightGBM] [Warning] num_iterations is set=200, n_iter=200 will be ignored. Current value: num_iterations=200\n",
            "[LightGBM] [Info] Number of positive: 600, number of negative: 50610\n",
            "[LightGBM] [Info] Auto-choosing col-wise multi-threading, the overhead of testing was 13.811033 seconds.\n",
            "You can set `force_col_wise=true` to remove the overhead.\n",
            "[LightGBM] [Info] Total Bins 665269\n",
            "[LightGBM] [Info] Number of data points in the train set: 51210, number of used features: 10978\n",
            "[LightGBM] [Info] [binary:BoostFromScore]: pavg=0.011716 -> initscore=-4.434975\n",
            "[LightGBM] [Info] Start training from score -4.434975\n"
          ]
        },
        {
          "name": "stderr",
          "output_type": "stream",
          "text": [
            "/usr/local/lib/python3.10/dist-packages/lightgbm/engine.py:172: UserWarning: Found `n_iter` in params. Will use it instead of argument\n",
            "  _log_warning(f\"Found `{alias}` in params. Will use it instead of argument\")\n"
          ]
        },
        {
          "name": "stdout",
          "output_type": "stream",
          "text": [
            "[LightGBM] [Warning] num_iterations is set=200, n_iter=200 will be ignored. Current value: num_iterations=200\n",
            "[LightGBM] [Info] Number of positive: 1345, number of negative: 49865\n",
            "[LightGBM] [Info] Auto-choosing col-wise multi-threading, the overhead of testing was 13.854169 seconds.\n",
            "You can set `force_col_wise=true` to remove the overhead.\n",
            "[LightGBM] [Info] Total Bins 665269\n",
            "[LightGBM] [Info] Number of data points in the train set: 51210, number of used features: 10978\n",
            "[LightGBM] [Info] [binary:BoostFromScore]: pavg=0.026264 -> initscore=-3.612925\n",
            "[LightGBM] [Info] Start training from score -3.612925\n"
          ]
        },
        {
          "name": "stderr",
          "output_type": "stream",
          "text": [
            "/usr/local/lib/python3.10/dist-packages/lightgbm/engine.py:172: UserWarning: Found `n_iter` in params. Will use it instead of argument\n",
            "  _log_warning(f\"Found `{alias}` in params. Will use it instead of argument\")\n"
          ]
        },
        {
          "name": "stdout",
          "output_type": "stream",
          "text": [
            "[LightGBM] [Warning] num_iterations is set=200, n_iter=200 will be ignored. Current value: num_iterations=200\n",
            "[LightGBM] [Info] Number of positive: 272, number of negative: 50938\n",
            "[LightGBM] [Info] Auto-choosing col-wise multi-threading, the overhead of testing was 14.848444 seconds.\n",
            "You can set `force_col_wise=true` to remove the overhead.\n",
            "[LightGBM] [Info] Total Bins 665269\n",
            "[LightGBM] [Info] Number of data points in the train set: 51210, number of used features: 10978\n",
            "[LightGBM] [Info] [binary:BoostFromScore]: pavg=0.005311 -> initscore=-5.232562\n",
            "[LightGBM] [Info] Start training from score -5.232562\n"
          ]
        },
        {
          "name": "stderr",
          "output_type": "stream",
          "text": [
            "/usr/local/lib/python3.10/dist-packages/lightgbm/engine.py:172: UserWarning: Found `n_iter` in params. Will use it instead of argument\n",
            "  _log_warning(f\"Found `{alias}` in params. Will use it instead of argument\")\n"
          ]
        },
        {
          "name": "stdout",
          "output_type": "stream",
          "text": [
            "[LightGBM] [Warning] num_iterations is set=200, n_iter=200 will be ignored. Current value: num_iterations=200\n",
            "[LightGBM] [Info] Number of positive: 2756, number of negative: 48454\n",
            "[LightGBM] [Info] Auto-choosing row-wise multi-threading, the overhead of testing was 14.414845 seconds.\n",
            "You can set `force_row_wise=true` to remove the overhead.\n",
            "And if memory is not enough, you can set `force_col_wise=true`.\n",
            "[LightGBM] [Info] Total Bins 665269\n",
            "[LightGBM] [Info] Number of data points in the train set: 51210, number of used features: 10978\n",
            "[LightGBM] [Info] [binary:BoostFromScore]: pavg=0.053818 -> initscore=-2.866835\n",
            "[LightGBM] [Info] Start training from score -2.866835\n"
          ]
        },
        {
          "name": "stderr",
          "output_type": "stream",
          "text": [
            "/usr/local/lib/python3.10/dist-packages/lightgbm/engine.py:172: UserWarning: Found `n_iter` in params. Will use it instead of argument\n",
            "  _log_warning(f\"Found `{alias}` in params. Will use it instead of argument\")\n"
          ]
        },
        {
          "name": "stdout",
          "output_type": "stream",
          "text": [
            "[LightGBM] [Warning] num_iterations is set=200, n_iter=200 will be ignored. Current value: num_iterations=200\n",
            "[LightGBM] [Info] Number of positive: 8198, number of negative: 43012\n",
            "[LightGBM] [Info] Auto-choosing col-wise multi-threading, the overhead of testing was 14.153989 seconds.\n",
            "You can set `force_col_wise=true` to remove the overhead.\n",
            "[LightGBM] [Info] Total Bins 665269\n",
            "[LightGBM] [Info] Number of data points in the train set: 51210, number of used features: 10978\n",
            "[LightGBM] [Info] [binary:BoostFromScore]: pavg=0.160086 -> initscore=-1.657589\n",
            "[LightGBM] [Info] Start training from score -1.657589\n"
          ]
        },
        {
          "name": "stderr",
          "output_type": "stream",
          "text": [
            "/usr/local/lib/python3.10/dist-packages/lightgbm/engine.py:172: UserWarning: Found `n_iter` in params. Will use it instead of argument\n",
            "  _log_warning(f\"Found `{alias}` in params. Will use it instead of argument\")\n"
          ]
        },
        {
          "name": "stdout",
          "output_type": "stream",
          "text": [
            "[LightGBM] [Warning] num_iterations is set=200, n_iter=200 will be ignored. Current value: num_iterations=200\n",
            "[LightGBM] [Info] Number of positive: 858, number of negative: 50352\n",
            "[LightGBM] [Info] Auto-choosing col-wise multi-threading, the overhead of testing was 14.302574 seconds.\n",
            "You can set `force_col_wise=true` to remove the overhead.\n",
            "[LightGBM] [Info] Total Bins 665269\n",
            "[LightGBM] [Info] Number of data points in the train set: 51210, number of used features: 10978\n",
            "[LightGBM] [Info] [binary:BoostFromScore]: pavg=0.016755 -> initscore=-4.072190\n",
            "[LightGBM] [Info] Start training from score -4.072190\n"
          ]
        },
        {
          "name": "stderr",
          "output_type": "stream",
          "text": [
            "/usr/local/lib/python3.10/dist-packages/lightgbm/engine.py:172: UserWarning: Found `n_iter` in params. Will use it instead of argument\n",
            "  _log_warning(f\"Found `{alias}` in params. Will use it instead of argument\")\n"
          ]
        },
        {
          "name": "stdout",
          "output_type": "stream",
          "text": [
            "[LightGBM] [Warning] num_iterations is set=200, n_iter=200 will be ignored. Current value: num_iterations=200\n",
            "[LightGBM] [Info] Number of positive: 191, number of negative: 51019\n",
            "[LightGBM] [Info] Auto-choosing col-wise multi-threading, the overhead of testing was 14.145481 seconds.\n",
            "You can set `force_col_wise=true` to remove the overhead.\n",
            "[LightGBM] [Info] Total Bins 665269\n",
            "[LightGBM] [Info] Number of data points in the train set: 51210, number of used features: 10978\n",
            "[LightGBM] [Info] [binary:BoostFromScore]: pavg=0.003730 -> initscore=-5.587680\n",
            "[LightGBM] [Info] Start training from score -5.587680\n"
          ]
        },
        {
          "name": "stderr",
          "output_type": "stream",
          "text": [
            "/usr/local/lib/python3.10/dist-packages/lightgbm/engine.py:172: UserWarning: Found `n_iter` in params. Will use it instead of argument\n",
            "  _log_warning(f\"Found `{alias}` in params. Will use it instead of argument\")\n"
          ]
        },
        {
          "name": "stdout",
          "output_type": "stream",
          "text": [
            "[LightGBM] [Warning] num_iterations is set=200, n_iter=200 will be ignored. Current value: num_iterations=200\n",
            "[LightGBM] [Info] Number of positive: 501, number of negative: 50709\n",
            "[LightGBM] [Info] Auto-choosing col-wise multi-threading, the overhead of testing was 14.105061 seconds.\n",
            "You can set `force_col_wise=true` to remove the overhead.\n",
            "[LightGBM] [Info] Total Bins 665269\n",
            "[LightGBM] [Info] Number of data points in the train set: 51210, number of used features: 10978\n",
            "[LightGBM] [Info] [binary:BoostFromScore]: pavg=0.009783 -> initscore=-4.617253\n",
            "[LightGBM] [Info] Start training from score -4.617253\n"
          ]
        },
        {
          "name": "stderr",
          "output_type": "stream",
          "text": [
            "/usr/local/lib/python3.10/dist-packages/lightgbm/engine.py:172: UserWarning: Found `n_iter` in params. Will use it instead of argument\n",
            "  _log_warning(f\"Found `{alias}` in params. Will use it instead of argument\")\n"
          ]
        },
        {
          "name": "stdout",
          "output_type": "stream",
          "text": [
            "[LightGBM] [Warning] num_iterations is set=200, n_iter=200 will be ignored. Current value: num_iterations=200\n",
            "[LightGBM] [Info] Number of positive: 6818, number of negative: 44392\n",
            "[LightGBM] [Info] Auto-choosing col-wise multi-threading, the overhead of testing was 14.166555 seconds.\n",
            "You can set `force_col_wise=true` to remove the overhead.\n",
            "[LightGBM] [Info] Total Bins 665269\n",
            "[LightGBM] [Info] Number of data points in the train set: 51210, number of used features: 10978\n",
            "[LightGBM] [Info] [binary:BoostFromScore]: pavg=0.133138 -> initscore=-1.873493\n",
            "[LightGBM] [Info] Start training from score -1.873493\n"
          ]
        },
        {
          "name": "stderr",
          "output_type": "stream",
          "text": [
            "/usr/local/lib/python3.10/dist-packages/lightgbm/engine.py:172: UserWarning: Found `n_iter` in params. Will use it instead of argument\n",
            "  _log_warning(f\"Found `{alias}` in params. Will use it instead of argument\")\n"
          ]
        },
        {
          "name": "stdout",
          "output_type": "stream",
          "text": [
            "[LightGBM] [Warning] num_iterations is set=200, n_iter=200 will be ignored. Current value: num_iterations=200\n",
            "[LightGBM] [Info] Number of positive: 1489, number of negative: 49721\n",
            "[LightGBM] [Info] Auto-choosing row-wise multi-threading, the overhead of testing was 14.400170 seconds.\n",
            "You can set `force_row_wise=true` to remove the overhead.\n",
            "And if memory is not enough, you can set `force_col_wise=true`.\n",
            "[LightGBM] [Info] Total Bins 665269\n",
            "[LightGBM] [Info] Number of data points in the train set: 51210, number of used features: 10978\n",
            "[LightGBM] [Info] [binary:BoostFromScore]: pavg=0.029076 -> initscore=-3.508323\n",
            "[LightGBM] [Info] Start training from score -3.508323\n"
          ]
        },
        {
          "name": "stderr",
          "output_type": "stream",
          "text": [
            "/usr/local/lib/python3.10/dist-packages/lightgbm/engine.py:172: UserWarning: Found `n_iter` in params. Will use it instead of argument\n",
            "  _log_warning(f\"Found `{alias}` in params. Will use it instead of argument\")\n"
          ]
        },
        {
          "name": "stdout",
          "output_type": "stream",
          "text": [
            "[LightGBM] [Warning] num_iterations is set=200, n_iter=200 will be ignored. Current value: num_iterations=200\n",
            "[LightGBM] [Info] Number of positive: 832, number of negative: 50378\n",
            "[LightGBM] [Info] Auto-choosing col-wise multi-threading, the overhead of testing was 13.848671 seconds.\n",
            "You can set `force_col_wise=true` to remove the overhead.\n",
            "[LightGBM] [Info] Total Bins 665269\n",
            "[LightGBM] [Info] Number of data points in the train set: 51210, number of used features: 10978\n",
            "[LightGBM] [Info] [binary:BoostFromScore]: pavg=0.016247 -> initscore=-4.103477\n",
            "[LightGBM] [Info] Start training from score -4.103477\n"
          ]
        },
        {
          "name": "stderr",
          "output_type": "stream",
          "text": [
            "/usr/local/lib/python3.10/dist-packages/lightgbm/engine.py:172: UserWarning: Found `n_iter` in params. Will use it instead of argument\n",
            "  _log_warning(f\"Found `{alias}` in params. Will use it instead of argument\")\n"
          ]
        },
        {
          "name": "stdout",
          "output_type": "stream",
          "text": [
            "[LightGBM] [Warning] num_iterations is set=200, n_iter=200 will be ignored. Current value: num_iterations=200\n",
            "[LightGBM] [Info] Number of positive: 1690, number of negative: 49520\n",
            "[LightGBM] [Info] Auto-choosing col-wise multi-threading, the overhead of testing was 13.998785 seconds.\n",
            "You can set `force_col_wise=true` to remove the overhead.\n",
            "[LightGBM] [Info] Total Bins 665269\n",
            "[LightGBM] [Info] Number of data points in the train set: 51210, number of used features: 10978\n",
            "[LightGBM] [Info] [binary:BoostFromScore]: pavg=0.033001 -> initscore=-3.377648\n",
            "[LightGBM] [Info] Start training from score -3.377648\n"
          ]
        },
        {
          "name": "stderr",
          "output_type": "stream",
          "text": [
            "/usr/local/lib/python3.10/dist-packages/lightgbm/engine.py:172: UserWarning: Found `n_iter` in params. Will use it instead of argument\n",
            "  _log_warning(f\"Found `{alias}` in params. Will use it instead of argument\")\n"
          ]
        },
        {
          "name": "stdout",
          "output_type": "stream",
          "text": [
            "[LightGBM] [Warning] num_iterations is set=200, n_iter=200 will be ignored. Current value: num_iterations=200\n",
            "[LightGBM] [Info] Number of positive: 3087, number of negative: 48123\n",
            "[LightGBM] [Info] Auto-choosing row-wise multi-threading, the overhead of testing was 14.525129 seconds.\n",
            "You can set `force_row_wise=true` to remove the overhead.\n",
            "And if memory is not enough, you can set `force_col_wise=true`.\n",
            "[LightGBM] [Info] Total Bins 665269\n",
            "[LightGBM] [Info] Number of data points in the train set: 51210, number of used features: 10978\n",
            "[LightGBM] [Info] [binary:BoostFromScore]: pavg=0.060281 -> initscore=-2.746560\n",
            "[LightGBM] [Info] Start training from score -2.746560\n"
          ]
        },
        {
          "name": "stderr",
          "output_type": "stream",
          "text": [
            "/usr/local/lib/python3.10/dist-packages/lightgbm/engine.py:172: UserWarning: Found `n_iter` in params. Will use it instead of argument\n",
            "  _log_warning(f\"Found `{alias}` in params. Will use it instead of argument\")\n"
          ]
        },
        {
          "name": "stdout",
          "output_type": "stream",
          "text": [
            "[LightGBM] [Warning] num_iterations is set=200, n_iter=200 will be ignored. Current value: num_iterations=200\n",
            "[LightGBM] [Info] Number of positive: 241, number of negative: 50969\n",
            "[LightGBM] [Info] Auto-choosing col-wise multi-threading, the overhead of testing was 13.666772 seconds.\n",
            "You can set `force_col_wise=true` to remove the overhead.\n",
            "[LightGBM] [Info] Total Bins 665269\n",
            "[LightGBM] [Info] Number of data points in the train set: 51210, number of used features: 10978\n",
            "[LightGBM] [Info] [binary:BoostFromScore]: pavg=0.004706 -> initscore=-5.354176\n",
            "[LightGBM] [Info] Start training from score -5.354176\n"
          ]
        },
        {
          "name": "stderr",
          "output_type": "stream",
          "text": [
            "/usr/local/lib/python3.10/dist-packages/lightgbm/engine.py:172: UserWarning: Found `n_iter` in params. Will use it instead of argument\n",
            "  _log_warning(f\"Found `{alias}` in params. Will use it instead of argument\")\n"
          ]
        },
        {
          "name": "stdout",
          "output_type": "stream",
          "text": [
            "[LightGBM] [Warning] num_iterations is set=200, n_iter=200 will be ignored. Current value: num_iterations=200\n",
            "[LightGBM] [Info] Number of positive: 7856, number of negative: 43354\n",
            "[LightGBM] [Info] Auto-choosing col-wise multi-threading, the overhead of testing was 13.759181 seconds.\n",
            "You can set `force_col_wise=true` to remove the overhead.\n",
            "[LightGBM] [Info] Total Bins 665269\n",
            "[LightGBM] [Info] Number of data points in the train set: 51210, number of used features: 10978\n",
            "[LightGBM] [Info] [binary:BoostFromScore]: pavg=0.153408 -> initscore=-1.708121\n",
            "[LightGBM] [Info] Start training from score -1.708121\n"
          ]
        },
        {
          "name": "stderr",
          "output_type": "stream",
          "text": [
            "/usr/local/lib/python3.10/dist-packages/lightgbm/engine.py:172: UserWarning: Found `n_iter` in params. Will use it instead of argument\n",
            "  _log_warning(f\"Found `{alias}` in params. Will use it instead of argument\")\n"
          ]
        },
        {
          "name": "stdout",
          "output_type": "stream",
          "text": [
            "[LightGBM] [Warning] num_iterations is set=200, n_iter=200 will be ignored. Current value: num_iterations=200\n",
            "[LightGBM] [Info] Number of positive: 5106, number of negative: 46104\n",
            "[LightGBM] [Info] Auto-choosing col-wise multi-threading, the overhead of testing was 13.928539 seconds.\n",
            "You can set `force_col_wise=true` to remove the overhead.\n",
            "[LightGBM] [Info] Total Bins 665269\n",
            "[LightGBM] [Info] Number of data points in the train set: 51210, number of used features: 10978\n",
            "[LightGBM] [Info] [binary:BoostFromScore]: pavg=0.099707 -> initscore=-2.200483\n",
            "[LightGBM] [Info] Start training from score -2.200483\n"
          ]
        },
        {
          "name": "stderr",
          "output_type": "stream",
          "text": [
            "/usr/local/lib/python3.10/dist-packages/lightgbm/engine.py:172: UserWarning: Found `n_iter` in params. Will use it instead of argument\n",
            "  _log_warning(f\"Found `{alias}` in params. Will use it instead of argument\")\n"
          ]
        },
        {
          "name": "stdout",
          "output_type": "stream",
          "text": [
            "[LightGBM] [Warning] num_iterations is set=200, n_iter=200 will be ignored. Current value: num_iterations=200\n",
            "[LightGBM] [Info] Number of positive: 548, number of negative: 50662\n",
            "[LightGBM] [Info] Auto-choosing col-wise multi-threading, the overhead of testing was 13.811933 seconds.\n",
            "You can set `force_col_wise=true` to remove the overhead.\n",
            "[LightGBM] [Info] Total Bins 665269\n",
            "[LightGBM] [Info] Number of data points in the train set: 51210, number of used features: 10978\n",
            "[LightGBM] [Info] [binary:BoostFromScore]: pavg=0.010701 -> initscore=-4.526656\n",
            "[LightGBM] [Info] Start training from score -4.526656\n"
          ]
        },
        {
          "name": "stderr",
          "output_type": "stream",
          "text": [
            "/usr/local/lib/python3.10/dist-packages/lightgbm/engine.py:172: UserWarning: Found `n_iter` in params. Will use it instead of argument\n",
            "  _log_warning(f\"Found `{alias}` in params. Will use it instead of argument\")\n"
          ]
        },
        {
          "name": "stdout",
          "output_type": "stream",
          "text": [
            "[LightGBM] [Warning] num_iterations is set=200, n_iter=200 will be ignored. Current value: num_iterations=200\n",
            "[LightGBM] [Info] Number of positive: 635, number of negative: 50575\n",
            "[LightGBM] [Info] Auto-choosing col-wise multi-threading, the overhead of testing was 13.703061 seconds.\n",
            "You can set `force_col_wise=true` to remove the overhead.\n",
            "[LightGBM] [Info] Total Bins 665269\n",
            "[LightGBM] [Info] Number of data points in the train set: 51210, number of used features: 10978\n",
            "[LightGBM] [Info] [binary:BoostFromScore]: pavg=0.012400 -> initscore=-4.377588\n",
            "[LightGBM] [Info] Start training from score -4.377588\n"
          ]
        },
        {
          "name": "stderr",
          "output_type": "stream",
          "text": [
            "/usr/local/lib/python3.10/dist-packages/lightgbm/engine.py:172: UserWarning: Found `n_iter` in params. Will use it instead of argument\n",
            "  _log_warning(f\"Found `{alias}` in params. Will use it instead of argument\")\n"
          ]
        },
        {
          "name": "stdout",
          "output_type": "stream",
          "text": [
            "[LightGBM] [Warning] num_iterations is set=200, n_iter=200 will be ignored. Current value: num_iterations=200\n",
            "[LightGBM] [Info] Number of positive: 312, number of negative: 50898\n",
            "[LightGBM] [Info] Auto-choosing col-wise multi-threading, the overhead of testing was 14.257825 seconds.\n",
            "You can set `force_col_wise=true` to remove the overhead.\n",
            "[LightGBM] [Info] Total Bins 665269\n",
            "[LightGBM] [Info] Number of data points in the train set: 51210, number of used features: 10978\n",
            "[LightGBM] [Info] [binary:BoostFromScore]: pavg=0.006093 -> initscore=-5.094576\n",
            "[LightGBM] [Info] Start training from score -5.094576\n"
          ]
        },
        {
          "name": "stderr",
          "output_type": "stream",
          "text": [
            "/usr/local/lib/python3.10/dist-packages/lightgbm/engine.py:172: UserWarning: Found `n_iter` in params. Will use it instead of argument\n",
            "  _log_warning(f\"Found `{alias}` in params. Will use it instead of argument\")\n"
          ]
        },
        {
          "name": "stdout",
          "output_type": "stream",
          "text": [
            "[LightGBM] [Warning] num_iterations is set=200, n_iter=200 will be ignored. Current value: num_iterations=200\n",
            "[LightGBM] [Info] Number of positive: 575, number of negative: 50635\n",
            "[LightGBM] [Info] Auto-choosing col-wise multi-threading, the overhead of testing was 14.800549 seconds.\n",
            "You can set `force_col_wise=true` to remove the overhead.\n",
            "[LightGBM] [Info] Total Bins 665269\n",
            "[LightGBM] [Info] Number of data points in the train set: 51210, number of used features: 10978\n",
            "[LightGBM] [Info] [binary:BoostFromScore]: pavg=0.011228 -> initscore=-4.478028\n",
            "[LightGBM] [Info] Start training from score -4.478028\n"
          ]
        },
        {
          "name": "stderr",
          "output_type": "stream",
          "text": [
            "/usr/local/lib/python3.10/dist-packages/lightgbm/engine.py:172: UserWarning: Found `n_iter` in params. Will use it instead of argument\n",
            "  _log_warning(f\"Found `{alias}` in params. Will use it instead of argument\")\n"
          ]
        },
        {
          "name": "stdout",
          "output_type": "stream",
          "text": [
            "[LightGBM] [Warning] num_iterations is set=200, n_iter=200 will be ignored. Current value: num_iterations=200\n",
            "[LightGBM] [Info] Number of positive: 2893, number of negative: 48317\n",
            "[LightGBM] [Info] Auto-choosing col-wise multi-threading, the overhead of testing was 14.275930 seconds.\n",
            "You can set `force_col_wise=true` to remove the overhead.\n",
            "[LightGBM] [Info] Total Bins 665269\n",
            "[LightGBM] [Info] Number of data points in the train set: 51210, number of used features: 10978\n",
            "[LightGBM] [Info] [binary:BoostFromScore]: pavg=0.056493 -> initscore=-2.815489\n",
            "[LightGBM] [Info] Start training from score -2.815489\n"
          ]
        },
        {
          "name": "stderr",
          "output_type": "stream",
          "text": [
            "/usr/local/lib/python3.10/dist-packages/lightgbm/engine.py:172: UserWarning: Found `n_iter` in params. Will use it instead of argument\n",
            "  _log_warning(f\"Found `{alias}` in params. Will use it instead of argument\")\n"
          ]
        },
        {
          "name": "stdout",
          "output_type": "stream",
          "text": [
            "[LightGBM] [Warning] num_iterations is set=200, n_iter=200 will be ignored. Current value: num_iterations=200\n",
            "[LightGBM] [Info] Number of positive: 273, number of negative: 50937\n",
            "[LightGBM] [Info] Auto-choosing col-wise multi-threading, the overhead of testing was 14.177441 seconds.\n",
            "You can set `force_col_wise=true` to remove the overhead.\n",
            "[LightGBM] [Info] Total Bins 665269\n",
            "[LightGBM] [Info] Number of data points in the train set: 51210, number of used features: 10978\n",
            "[LightGBM] [Info] [binary:BoostFromScore]: pavg=0.005331 -> initscore=-5.228873\n",
            "[LightGBM] [Info] Start training from score -5.228873\n"
          ]
        },
        {
          "name": "stderr",
          "output_type": "stream",
          "text": [
            "/usr/local/lib/python3.10/dist-packages/lightgbm/engine.py:172: UserWarning: Found `n_iter` in params. Will use it instead of argument\n",
            "  _log_warning(f\"Found `{alias}` in params. Will use it instead of argument\")\n"
          ]
        },
        {
          "name": "stdout",
          "output_type": "stream",
          "text": [
            "[LightGBM] [Warning] num_iterations is set=200, n_iter=200 will be ignored. Current value: num_iterations=200\n",
            "[LightGBM] [Info] Number of positive: 2769, number of negative: 48441\n",
            "[LightGBM] [Info] Auto-choosing col-wise multi-threading, the overhead of testing was 14.383820 seconds.\n",
            "You can set `force_col_wise=true` to remove the overhead.\n",
            "[LightGBM] [Info] Total Bins 665269\n",
            "[LightGBM] [Info] Number of data points in the train set: 51210, number of used features: 10978\n",
            "[LightGBM] [Info] [binary:BoostFromScore]: pavg=0.054071 -> initscore=-2.861860\n",
            "[LightGBM] [Info] Start training from score -2.861860\n"
          ]
        },
        {
          "name": "stderr",
          "output_type": "stream",
          "text": [
            "/usr/local/lib/python3.10/dist-packages/lightgbm/engine.py:172: UserWarning: Found `n_iter` in params. Will use it instead of argument\n",
            "  _log_warning(f\"Found `{alias}` in params. Will use it instead of argument\")\n"
          ]
        },
        {
          "name": "stdout",
          "output_type": "stream",
          "text": [
            "[LightGBM] [Warning] num_iterations is set=200, n_iter=200 will be ignored. Current value: num_iterations=200\n",
            "[LightGBM] [Info] Number of positive: 134, number of negative: 51076\n",
            "[LightGBM] [Info] Auto-choosing col-wise multi-threading, the overhead of testing was 14.256784 seconds.\n",
            "You can set `force_col_wise=true` to remove the overhead.\n",
            "[LightGBM] [Info] Total Bins 665269\n",
            "[LightGBM] [Info] Number of data points in the train set: 51210, number of used features: 10978\n",
            "[LightGBM] [Info] [binary:BoostFromScore]: pavg=0.002617 -> initscore=-5.943230\n",
            "[LightGBM] [Info] Start training from score -5.943230\n"
          ]
        },
        {
          "name": "stderr",
          "output_type": "stream",
          "text": [
            "/usr/local/lib/python3.10/dist-packages/lightgbm/engine.py:172: UserWarning: Found `n_iter` in params. Will use it instead of argument\n",
            "  _log_warning(f\"Found `{alias}` in params. Will use it instead of argument\")\n"
          ]
        },
        {
          "name": "stdout",
          "output_type": "stream",
          "text": [
            "[LightGBM] [Warning] num_iterations is set=200, n_iter=200 will be ignored. Current value: num_iterations=200\n",
            "[LightGBM] [Info] Number of positive: 1584, number of negative: 49626\n",
            "[LightGBM] [Info] Auto-choosing col-wise multi-threading, the overhead of testing was 14.286752 seconds.\n",
            "You can set `force_col_wise=true` to remove the overhead.\n",
            "[LightGBM] [Info] Total Bins 665269\n",
            "[LightGBM] [Info] Number of data points in the train set: 51210, number of used features: 10978\n",
            "[LightGBM] [Info] [binary:BoostFromScore]: pavg=0.030931 -> initscore=-3.444562\n",
            "[LightGBM] [Info] Start training from score -3.444562\n"
          ]
        },
        {
          "name": "stderr",
          "output_type": "stream",
          "text": [
            "/usr/local/lib/python3.10/dist-packages/lightgbm/engine.py:172: UserWarning: Found `n_iter` in params. Will use it instead of argument\n",
            "  _log_warning(f\"Found `{alias}` in params. Will use it instead of argument\")\n"
          ]
        },
        {
          "name": "stdout",
          "output_type": "stream",
          "text": [
            "[LightGBM] [Warning] num_iterations is set=200, n_iter=200 will be ignored. Current value: num_iterations=200\n",
            "[LightGBM] [Info] Number of positive: 2967, number of negative: 48243\n",
            "[LightGBM] [Info] Auto-choosing col-wise multi-threading, the overhead of testing was 14.268611 seconds.\n",
            "You can set `force_col_wise=true` to remove the overhead.\n",
            "[LightGBM] [Info] Total Bins 665269\n",
            "[LightGBM] [Info] Number of data points in the train set: 51210, number of used features: 10978\n",
            "[LightGBM] [Info] [binary:BoostFromScore]: pavg=0.057938 -> initscore=-2.788699\n",
            "[LightGBM] [Info] Start training from score -2.788699\n"
          ]
        },
        {
          "name": "stderr",
          "output_type": "stream",
          "text": [
            "/usr/local/lib/python3.10/dist-packages/lightgbm/engine.py:172: UserWarning: Found `n_iter` in params. Will use it instead of argument\n",
            "  _log_warning(f\"Found `{alias}` in params. Will use it instead of argument\")\n"
          ]
        },
        {
          "name": "stdout",
          "output_type": "stream",
          "text": [
            "[LightGBM] [Warning] num_iterations is set=200, n_iter=200 will be ignored. Current value: num_iterations=200\n",
            "[LightGBM] [Info] Number of positive: 984, number of negative: 50226\n",
            "[LightGBM] [Info] Auto-choosing col-wise multi-threading, the overhead of testing was 14.411884 seconds.\n",
            "You can set `force_col_wise=true` to remove the overhead.\n",
            "[LightGBM] [Info] Total Bins 665269\n",
            "[LightGBM] [Info] Number of data points in the train set: 51210, number of used features: 10978\n",
            "[LightGBM] [Info] [binary:BoostFromScore]: pavg=0.019215 -> initscore=-3.932662\n",
            "[LightGBM] [Info] Start training from score -3.932662\n"
          ]
        },
        {
          "name": "stderr",
          "output_type": "stream",
          "text": [
            "/usr/local/lib/python3.10/dist-packages/lightgbm/engine.py:172: UserWarning: Found `n_iter` in params. Will use it instead of argument\n",
            "  _log_warning(f\"Found `{alias}` in params. Will use it instead of argument\")\n"
          ]
        },
        {
          "name": "stdout",
          "output_type": "stream",
          "text": [
            "[LightGBM] [Warning] num_iterations is set=200, n_iter=200 will be ignored. Current value: num_iterations=200\n",
            "[LightGBM] [Info] Number of positive: 595, number of negative: 50615\n",
            "[LightGBM] [Info] Auto-choosing col-wise multi-threading, the overhead of testing was 14.344497 seconds.\n",
            "You can set `force_col_wise=true` to remove the overhead.\n",
            "[LightGBM] [Info] Total Bins 665269\n",
            "[LightGBM] [Info] Number of data points in the train set: 51210, number of used features: 10978\n",
            "[LightGBM] [Info] [binary:BoostFromScore]: pavg=0.011619 -> initscore=-4.443442\n",
            "[LightGBM] [Info] Start training from score -4.443442\n"
          ]
        },
        {
          "name": "stderr",
          "output_type": "stream",
          "text": [
            "/usr/local/lib/python3.10/dist-packages/lightgbm/engine.py:172: UserWarning: Found `n_iter` in params. Will use it instead of argument\n",
            "  _log_warning(f\"Found `{alias}` in params. Will use it instead of argument\")\n"
          ]
        },
        {
          "name": "stdout",
          "output_type": "stream",
          "text": [
            "[LightGBM] [Warning] num_iterations is set=200, n_iter=200 will be ignored. Current value: num_iterations=200\n",
            "[LightGBM] [Info] Number of positive: 590, number of negative: 50620\n",
            "[LightGBM] [Info] Auto-choosing col-wise multi-threading, the overhead of testing was 14.302319 seconds.\n",
            "You can set `force_col_wise=true` to remove the overhead.\n",
            "[LightGBM] [Info] Total Bins 665269\n",
            "[LightGBM] [Info] Number of data points in the train set: 51210, number of used features: 10978\n",
            "[LightGBM] [Info] [binary:BoostFromScore]: pavg=0.011521 -> initscore=-4.451979\n",
            "[LightGBM] [Info] Start training from score -4.451979\n"
          ]
        },
        {
          "name": "stderr",
          "output_type": "stream",
          "text": [
            "/usr/local/lib/python3.10/dist-packages/lightgbm/engine.py:172: UserWarning: Found `n_iter` in params. Will use it instead of argument\n",
            "  _log_warning(f\"Found `{alias}` in params. Will use it instead of argument\")\n"
          ]
        },
        {
          "name": "stdout",
          "output_type": "stream",
          "text": [
            "[LightGBM] [Warning] num_iterations is set=200, n_iter=200 will be ignored. Current value: num_iterations=200\n",
            "[LightGBM] [Info] Number of positive: 2967, number of negative: 48243\n",
            "[LightGBM] [Info] Auto-choosing col-wise multi-threading, the overhead of testing was 14.294211 seconds.\n",
            "You can set `force_col_wise=true` to remove the overhead.\n",
            "[LightGBM] [Info] Total Bins 665269\n",
            "[LightGBM] [Info] Number of data points in the train set: 51210, number of used features: 10978\n",
            "[LightGBM] [Info] [binary:BoostFromScore]: pavg=0.057938 -> initscore=-2.788699\n",
            "[LightGBM] [Info] Start training from score -2.788699\n"
          ]
        },
        {
          "name": "stderr",
          "output_type": "stream",
          "text": [
            "/usr/local/lib/python3.10/dist-packages/lightgbm/engine.py:172: UserWarning: Found `n_iter` in params. Will use it instead of argument\n",
            "  _log_warning(f\"Found `{alias}` in params. Will use it instead of argument\")\n"
          ]
        },
        {
          "name": "stdout",
          "output_type": "stream",
          "text": [
            "[LightGBM] [Warning] num_iterations is set=200, n_iter=200 will be ignored. Current value: num_iterations=200\n",
            "[LightGBM] [Info] Number of positive: 1225, number of negative: 49985\n",
            "[LightGBM] [Info] Auto-choosing row-wise multi-threading, the overhead of testing was 15.327545 seconds.\n",
            "You can set `force_row_wise=true` to remove the overhead.\n",
            "And if memory is not enough, you can set `force_col_wise=true`.\n",
            "[LightGBM] [Info] Total Bins 665269\n",
            "[LightGBM] [Info] Number of data points in the train set: 51210, number of used features: 10978\n",
            "[LightGBM] [Info] [binary:BoostFromScore]: pavg=0.023921 -> initscore=-3.708782\n",
            "[LightGBM] [Info] Start training from score -3.708782\n"
          ]
        },
        {
          "name": "stderr",
          "output_type": "stream",
          "text": [
            "/usr/local/lib/python3.10/dist-packages/lightgbm/engine.py:172: UserWarning: Found `n_iter` in params. Will use it instead of argument\n",
            "  _log_warning(f\"Found `{alias}` in params. Will use it instead of argument\")\n"
          ]
        },
        {
          "name": "stdout",
          "output_type": "stream",
          "text": [
            "[LightGBM] [Warning] num_iterations is set=200, n_iter=200 will be ignored. Current value: num_iterations=200\n",
            "[LightGBM] [Info] Number of positive: 2080, number of negative: 49130\n",
            "[LightGBM] [Info] Auto-choosing row-wise multi-threading, the overhead of testing was 14.895971 seconds.\n",
            "You can set `force_row_wise=true` to remove the overhead.\n",
            "And if memory is not enough, you can set `force_col_wise=true`.\n",
            "[LightGBM] [Info] Total Bins 665269\n",
            "[LightGBM] [Info] Number of data points in the train set: 51210, number of used features: 10978\n",
            "[LightGBM] [Info] [binary:BoostFromScore]: pavg=0.040617 -> initscore=-3.162102\n",
            "[LightGBM] [Info] Start training from score -3.162102\n"
          ]
        },
        {
          "name": "stderr",
          "output_type": "stream",
          "text": [
            "/usr/local/lib/python3.10/dist-packages/lightgbm/engine.py:172: UserWarning: Found `n_iter` in params. Will use it instead of argument\n",
            "  _log_warning(f\"Found `{alias}` in params. Will use it instead of argument\")\n"
          ]
        },
        {
          "name": "stdout",
          "output_type": "stream",
          "text": [
            "[LightGBM] [Warning] num_iterations is set=200, n_iter=200 will be ignored. Current value: num_iterations=200\n",
            "[LightGBM] [Info] Number of positive: 3567, number of negative: 47643\n",
            "[LightGBM] [Info] Auto-choosing row-wise multi-threading, the overhead of testing was 14.916351 seconds.\n",
            "You can set `force_row_wise=true` to remove the overhead.\n",
            "And if memory is not enough, you can set `force_col_wise=true`.\n",
            "[LightGBM] [Info] Total Bins 665269\n",
            "[LightGBM] [Info] Number of data points in the train set: 51210, number of used features: 10978\n",
            "[LightGBM] [Info] [binary:BoostFromScore]: pavg=0.069654 -> initscore=-2.592011\n",
            "[LightGBM] [Info] Start training from score -2.592011\n"
          ]
        },
        {
          "name": "stderr",
          "output_type": "stream",
          "text": [
            "/usr/local/lib/python3.10/dist-packages/lightgbm/engine.py:172: UserWarning: Found `n_iter` in params. Will use it instead of argument\n",
            "  _log_warning(f\"Found `{alias}` in params. Will use it instead of argument\")\n"
          ]
        },
        {
          "name": "stdout",
          "output_type": "stream",
          "text": [
            "[LightGBM] [Warning] num_iterations is set=200, n_iter=200 will be ignored. Current value: num_iterations=200\n",
            "[LightGBM] [Info] Number of positive: 792, number of negative: 50418\n",
            "[LightGBM] [Info] Auto-choosing col-wise multi-threading, the overhead of testing was 14.906757 seconds.\n",
            "You can set `force_col_wise=true` to remove the overhead.\n",
            "[LightGBM] [Info] Total Bins 665269\n",
            "[LightGBM] [Info] Number of data points in the train set: 51210, number of used features: 10978\n",
            "[LightGBM] [Info] [binary:BoostFromScore]: pavg=0.015466 -> initscore=-4.153542\n",
            "[LightGBM] [Info] Start training from score -4.153542\n"
          ]
        },
        {
          "name": "stderr",
          "output_type": "stream",
          "text": [
            "/usr/local/lib/python3.10/dist-packages/lightgbm/engine.py:172: UserWarning: Found `n_iter` in params. Will use it instead of argument\n",
            "  _log_warning(f\"Found `{alias}` in params. Will use it instead of argument\")\n"
          ]
        },
        {
          "name": "stdout",
          "output_type": "stream",
          "text": [
            "[LightGBM] [Warning] num_iterations is set=200, n_iter=200 will be ignored. Current value: num_iterations=200\n",
            "[LightGBM] [Info] Number of positive: 3567, number of negative: 47643\n",
            "[LightGBM] [Info] Auto-choosing row-wise multi-threading, the overhead of testing was 15.001271 seconds.\n",
            "You can set `force_row_wise=true` to remove the overhead.\n",
            "And if memory is not enough, you can set `force_col_wise=true`.\n",
            "[LightGBM] [Info] Total Bins 665269\n",
            "[LightGBM] [Info] Number of data points in the train set: 51210, number of used features: 10978\n",
            "[LightGBM] [Info] [binary:BoostFromScore]: pavg=0.069654 -> initscore=-2.592011\n",
            "[LightGBM] [Info] Start training from score -2.592011\n"
          ]
        },
        {
          "name": "stderr",
          "output_type": "stream",
          "text": [
            "/usr/local/lib/python3.10/dist-packages/lightgbm/engine.py:172: UserWarning: Found `n_iter` in params. Will use it instead of argument\n",
            "  _log_warning(f\"Found `{alias}` in params. Will use it instead of argument\")\n"
          ]
        },
        {
          "name": "stdout",
          "output_type": "stream",
          "text": [
            "[LightGBM] [Warning] num_iterations is set=200, n_iter=200 will be ignored. Current value: num_iterations=200\n",
            "[LightGBM] [Info] Number of positive: 257, number of negative: 50953\n",
            "[LightGBM] [Info] Auto-choosing col-wise multi-threading, the overhead of testing was 14.453410 seconds.\n",
            "You can set `force_col_wise=true` to remove the overhead.\n",
            "[LightGBM] [Info] Total Bins 665269\n",
            "[LightGBM] [Info] Number of data points in the train set: 51210, number of used features: 10978\n",
            "[LightGBM] [Info] [binary:BoostFromScore]: pavg=0.005019 -> initscore=-5.289583\n",
            "[LightGBM] [Info] Start training from score -5.289583\n"
          ]
        },
        {
          "name": "stderr",
          "output_type": "stream",
          "text": [
            "/usr/local/lib/python3.10/dist-packages/lightgbm/engine.py:172: UserWarning: Found `n_iter` in params. Will use it instead of argument\n",
            "  _log_warning(f\"Found `{alias}` in params. Will use it instead of argument\")\n"
          ]
        },
        {
          "name": "stdout",
          "output_type": "stream",
          "text": [
            "[LightGBM] [Warning] num_iterations is set=200, n_iter=200 will be ignored. Current value: num_iterations=200\n",
            "[LightGBM] [Info] Number of positive: 332, number of negative: 50878\n",
            "[LightGBM] [Info] Auto-choosing row-wise multi-threading, the overhead of testing was 15.224290 seconds.\n",
            "You can set `force_row_wise=true` to remove the overhead.\n",
            "And if memory is not enough, you can set `force_col_wise=true`.\n",
            "[LightGBM] [Info] Total Bins 665269\n",
            "[LightGBM] [Info] Number of data points in the train set: 51210, number of used features: 10978\n",
            "[LightGBM] [Info] [binary:BoostFromScore]: pavg=0.006483 -> initscore=-5.032051\n",
            "[LightGBM] [Info] Start training from score -5.032051\n"
          ]
        },
        {
          "name": "stderr",
          "output_type": "stream",
          "text": [
            "/usr/local/lib/python3.10/dist-packages/lightgbm/engine.py:172: UserWarning: Found `n_iter` in params. Will use it instead of argument\n",
            "  _log_warning(f\"Found `{alias}` in params. Will use it instead of argument\")\n"
          ]
        },
        {
          "name": "stdout",
          "output_type": "stream",
          "text": [
            "[LightGBM] [Warning] num_iterations is set=200, n_iter=200 will be ignored. Current value: num_iterations=200\n",
            "[LightGBM] [Info] Number of positive: 177, number of negative: 51033\n",
            "[LightGBM] [Info] Auto-choosing col-wise multi-threading, the overhead of testing was 14.418344 seconds.\n",
            "You can set `force_col_wise=true` to remove the overhead.\n",
            "[LightGBM] [Info] Total Bins 665269\n",
            "[LightGBM] [Info] Number of data points in the train set: 51210, number of used features: 10978\n",
            "[LightGBM] [Info] [binary:BoostFromScore]: pavg=0.003456 -> initscore=-5.664078\n",
            "[LightGBM] [Info] Start training from score -5.664078\n"
          ]
        },
        {
          "name": "stderr",
          "output_type": "stream",
          "text": [
            "/usr/local/lib/python3.10/dist-packages/lightgbm/engine.py:172: UserWarning: Found `n_iter` in params. Will use it instead of argument\n",
            "  _log_warning(f\"Found `{alias}` in params. Will use it instead of argument\")\n"
          ]
        },
        {
          "name": "stdout",
          "output_type": "stream",
          "text": [
            "[LightGBM] [Warning] num_iterations is set=200, n_iter=200 will be ignored. Current value: num_iterations=200\n",
            "[LightGBM] [Info] Number of positive: 991, number of negative: 50219\n",
            "[LightGBM] [Info] Auto-choosing col-wise multi-threading, the overhead of testing was 14.436049 seconds.\n",
            "You can set `force_col_wise=true` to remove the overhead.\n",
            "[LightGBM] [Info] Total Bins 665269\n",
            "[LightGBM] [Info] Number of data points in the train set: 51210, number of used features: 10978\n",
            "[LightGBM] [Info] [binary:BoostFromScore]: pavg=0.019352 -> initscore=-3.925434\n",
            "[LightGBM] [Info] Start training from score -3.925434\n"
          ]
        },
        {
          "name": "stderr",
          "output_type": "stream",
          "text": [
            "/usr/local/lib/python3.10/dist-packages/lightgbm/engine.py:172: UserWarning: Found `n_iter` in params. Will use it instead of argument\n",
            "  _log_warning(f\"Found `{alias}` in params. Will use it instead of argument\")\n"
          ]
        },
        {
          "name": "stdout",
          "output_type": "stream",
          "text": [
            "[LightGBM] [Warning] num_iterations is set=200, n_iter=200 will be ignored. Current value: num_iterations=200\n",
            "[LightGBM] [Info] Number of positive: 1368, number of negative: 49842\n",
            "[LightGBM] [Info] Auto-choosing row-wise multi-threading, the overhead of testing was 15.337740 seconds.\n",
            "You can set `force_row_wise=true` to remove the overhead.\n",
            "And if memory is not enough, you can set `force_col_wise=true`.\n",
            "[LightGBM] [Info] Total Bins 665269\n",
            "[LightGBM] [Info] Number of data points in the train set: 51210, number of used features: 10978\n",
            "[LightGBM] [Info] [binary:BoostFromScore]: pavg=0.026714 -> initscore=-3.595508\n",
            "[LightGBM] [Info] Start training from score -3.595508\n"
          ]
        },
        {
          "data": {
            "text/html": [
              "<style>#sk-container-id-3 {color: black;background-color: white;}#sk-container-id-3 pre{padding: 0;}#sk-container-id-3 div.sk-toggleable {background-color: white;}#sk-container-id-3 label.sk-toggleable__label {cursor: pointer;display: block;width: 100%;margin-bottom: 0;padding: 0.3em;box-sizing: border-box;text-align: center;}#sk-container-id-3 label.sk-toggleable__label-arrow:before {content: \"▸\";float: left;margin-right: 0.25em;color: #696969;}#sk-container-id-3 label.sk-toggleable__label-arrow:hover:before {color: black;}#sk-container-id-3 div.sk-estimator:hover label.sk-toggleable__label-arrow:before {color: black;}#sk-container-id-3 div.sk-toggleable__content {max-height: 0;max-width: 0;overflow: hidden;text-align: left;background-color: #f0f8ff;}#sk-container-id-3 div.sk-toggleable__content pre {margin: 0.2em;color: black;border-radius: 0.25em;background-color: #f0f8ff;}#sk-container-id-3 input.sk-toggleable__control:checked~div.sk-toggleable__content {max-height: 200px;max-width: 100%;overflow: auto;}#sk-container-id-3 input.sk-toggleable__control:checked~label.sk-toggleable__label-arrow:before {content: \"▾\";}#sk-container-id-3 div.sk-estimator input.sk-toggleable__control:checked~label.sk-toggleable__label {background-color: #d4ebff;}#sk-container-id-3 div.sk-label input.sk-toggleable__control:checked~label.sk-toggleable__label {background-color: #d4ebff;}#sk-container-id-3 input.sk-hidden--visually {border: 0;clip: rect(1px 1px 1px 1px);clip: rect(1px, 1px, 1px, 1px);height: 1px;margin: -1px;overflow: hidden;padding: 0;position: absolute;width: 1px;}#sk-container-id-3 div.sk-estimator {font-family: monospace;background-color: #f0f8ff;border: 1px dotted black;border-radius: 0.25em;box-sizing: border-box;margin-bottom: 0.5em;}#sk-container-id-3 div.sk-estimator:hover {background-color: #d4ebff;}#sk-container-id-3 div.sk-parallel-item::after {content: \"\";width: 100%;border-bottom: 1px solid gray;flex-grow: 1;}#sk-container-id-3 div.sk-label:hover label.sk-toggleable__label {background-color: #d4ebff;}#sk-container-id-3 div.sk-serial::before {content: \"\";position: absolute;border-left: 1px solid gray;box-sizing: border-box;top: 0;bottom: 0;left: 50%;z-index: 0;}#sk-container-id-3 div.sk-serial {display: flex;flex-direction: column;align-items: center;background-color: white;padding-right: 0.2em;padding-left: 0.2em;position: relative;}#sk-container-id-3 div.sk-item {position: relative;z-index: 1;}#sk-container-id-3 div.sk-parallel {display: flex;align-items: stretch;justify-content: center;background-color: white;position: relative;}#sk-container-id-3 div.sk-item::before, #sk-container-id-3 div.sk-parallel-item::before {content: \"\";position: absolute;border-left: 1px solid gray;box-sizing: border-box;top: 0;bottom: 0;left: 50%;z-index: -1;}#sk-container-id-3 div.sk-parallel-item {display: flex;flex-direction: column;z-index: 1;position: relative;background-color: white;}#sk-container-id-3 div.sk-parallel-item:first-child::after {align-self: flex-end;width: 50%;}#sk-container-id-3 div.sk-parallel-item:last-child::after {align-self: flex-start;width: 50%;}#sk-container-id-3 div.sk-parallel-item:only-child::after {width: 0;}#sk-container-id-3 div.sk-dashed-wrapped {border: 1px dashed gray;margin: 0 0.4em 0.5em 0.4em;box-sizing: border-box;padding-bottom: 0.4em;background-color: white;}#sk-container-id-3 div.sk-label label {font-family: monospace;font-weight: bold;display: inline-block;line-height: 1.2em;}#sk-container-id-3 div.sk-label-container {text-align: center;}#sk-container-id-3 div.sk-container {/* jupyter's `normalize.less` sets `[hidden] { display: none; }` but bootstrap.min.css set `[hidden] { display: none !important; }` so we also need the `!important` here to be able to override the default hidden behavior on the sphinx rendered scikit-learn.org. See: https://github.com/scikit-learn/scikit-learn/issues/21755 */display: inline-block !important;position: relative;}#sk-container-id-3 div.sk-text-repr-fallback {display: none;}</style><div id=\"sk-container-id-3\" class=\"sk-top-container\"><div class=\"sk-text-repr-fallback\"><pre>Pipeline(steps=[(&#x27;tfidf&#x27;, TfidfVectorizer(stop_words=&#x27;english&#x27;)),\n",
              "                (&#x27;clf&#x27;,\n",
              "                 MultiOutputClassifier(estimator=LGBMClassifier(learning_rate=0.001,\n",
              "                                                                n_iter=200)))])</pre><b>In a Jupyter environment, please rerun this cell to show the HTML representation or trust the notebook. <br />On GitHub, the HTML representation is unable to render, please try loading this page with nbviewer.org.</b></div><div class=\"sk-container\" hidden><div class=\"sk-item sk-dashed-wrapped\"><div class=\"sk-label-container\"><div class=\"sk-label sk-toggleable\"><input class=\"sk-toggleable__control sk-hidden--visually\" id=\"sk-estimator-id-11\" type=\"checkbox\" ><label for=\"sk-estimator-id-11\" class=\"sk-toggleable__label sk-toggleable__label-arrow\">Pipeline</label><div class=\"sk-toggleable__content\"><pre>Pipeline(steps=[(&#x27;tfidf&#x27;, TfidfVectorizer(stop_words=&#x27;english&#x27;)),\n",
              "                (&#x27;clf&#x27;,\n",
              "                 MultiOutputClassifier(estimator=LGBMClassifier(learning_rate=0.001,\n",
              "                                                                n_iter=200)))])</pre></div></div></div><div class=\"sk-serial\"><div class=\"sk-item\"><div class=\"sk-estimator sk-toggleable\"><input class=\"sk-toggleable__control sk-hidden--visually\" id=\"sk-estimator-id-12\" type=\"checkbox\" ><label for=\"sk-estimator-id-12\" class=\"sk-toggleable__label sk-toggleable__label-arrow\">TfidfVectorizer</label><div class=\"sk-toggleable__content\"><pre>TfidfVectorizer(stop_words=&#x27;english&#x27;)</pre></div></div></div><div class=\"sk-item sk-dashed-wrapped\"><div class=\"sk-label-container\"><div class=\"sk-label sk-toggleable\"><input class=\"sk-toggleable__control sk-hidden--visually\" id=\"sk-estimator-id-13\" type=\"checkbox\" ><label for=\"sk-estimator-id-13\" class=\"sk-toggleable__label sk-toggleable__label-arrow\">clf: MultiOutputClassifier</label><div class=\"sk-toggleable__content\"><pre>MultiOutputClassifier(estimator=LGBMClassifier(learning_rate=0.001, n_iter=200))</pre></div></div></div><div class=\"sk-parallel\"><div class=\"sk-parallel-item\"><div class=\"sk-item\"><div class=\"sk-label-container\"><div class=\"sk-label sk-toggleable\"><input class=\"sk-toggleable__control sk-hidden--visually\" id=\"sk-estimator-id-14\" type=\"checkbox\" ><label for=\"sk-estimator-id-14\" class=\"sk-toggleable__label sk-toggleable__label-arrow\">estimator: LGBMClassifier</label><div class=\"sk-toggleable__content\"><pre>LGBMClassifier(learning_rate=0.001, n_iter=200)</pre></div></div></div><div class=\"sk-serial\"><div class=\"sk-item\"><div class=\"sk-estimator sk-toggleable\"><input class=\"sk-toggleable__control sk-hidden--visually\" id=\"sk-estimator-id-15\" type=\"checkbox\" ><label for=\"sk-estimator-id-15\" class=\"sk-toggleable__label sk-toggleable__label-arrow\">LGBMClassifier</label><div class=\"sk-toggleable__content\"><pre>LGBMClassifier(learning_rate=0.001, n_iter=200)</pre></div></div></div></div></div></div></div></div></div></div></div></div>"
            ],
            "text/plain": [
              "Pipeline(steps=[('tfidf', TfidfVectorizer(stop_words='english')),\n",
              "                ('clf',\n",
              "                 MultiOutputClassifier(estimator=LGBMClassifier(learning_rate=0.001,\n",
              "                                                                n_iter=200)))])"
            ]
          },
          "execution_count": 64,
          "metadata": {},
          "output_type": "execute_result"
        }
      ],
      "source": [
        "clf1.fit(df['comb'],df.drop(['Id',\"comb\",\"Categories\"],axis =1))"
      ]
    },
    {
      "cell_type": "code",
      "execution_count": null,
      "metadata": {
        "colab": {
          "background_save": true
        },
        "id": "QDj2Ur5in0I9"
      },
      "outputs": [],
      "source": [
        "res = clf1.predict(testdf['comb'])\n"
      ]
    },
    {
      "cell_type": "code",
      "execution_count": null,
      "metadata": {
        "colab": {
          "background_save": true
        },
        "id": "NPUz5xUZn0I9",
        "outputId": "bb5caffc-1bc7-4f8b-deb9-6353e63198c8"
      },
      "outputs": [
        {
          "data": {
            "text/html": [
              "\n",
              "  <div id=\"df-d86e2711-87b3-4305-893f-ccc64dfdc069\" class=\"colab-df-container\">\n",
              "    <div>\n",
              "<style scoped>\n",
              "    .dataframe tbody tr th:only-of-type {\n",
              "        vertical-align: middle;\n",
              "    }\n",
              "\n",
              "    .dataframe tbody tr th {\n",
              "        vertical-align: top;\n",
              "    }\n",
              "\n",
              "    .dataframe thead th {\n",
              "        text-align: right;\n",
              "    }\n",
              "</style>\n",
              "<table border=\"1\" class=\"dataframe\">\n",
              "  <thead>\n",
              "    <tr style=\"text-align: right;\">\n",
              "      <th></th>\n",
              "      <th>Id</th>\n",
              "      <th>Title</th>\n",
              "      <th>Abstract</th>\n",
              "      <th>comb</th>\n",
              "      <th>math.AT</th>\n",
              "      <th>stat.AP</th>\n",
              "      <th>cs.AR</th>\n",
              "      <th>math.QA</th>\n",
              "      <th>q-bio.MN</th>\n",
              "      <th>eess.AS</th>\n",
              "      <th>...</th>\n",
              "      <th>cs.SE</th>\n",
              "      <th>cs.RO</th>\n",
              "      <th>stat.TH</th>\n",
              "      <th>cs.DB</th>\n",
              "      <th>math.ST</th>\n",
              "      <th>q-bio.GN</th>\n",
              "      <th>q-fin.PM</th>\n",
              "      <th>q-bio.TO</th>\n",
              "      <th>math.GR</th>\n",
              "      <th>cs.IR</th>\n",
              "    </tr>\n",
              "  </thead>\n",
              "  <tbody>\n",
              "    <tr>\n",
              "      <th>0</th>\n",
              "      <td>30332</td>\n",
              "      <td>Pricing FX Options under Intermediate Currency</td>\n",
              "      <td>We suggest an intermediate currency approach t...</td>\n",
              "      <td>Pricing FX Options under Intermediate Currency...</td>\n",
              "      <td>0.0</td>\n",
              "      <td>0.0</td>\n",
              "      <td>0.0</td>\n",
              "      <td>0.0</td>\n",
              "      <td>0.0</td>\n",
              "      <td>0.0</td>\n",
              "      <td>...</td>\n",
              "      <td>0.0</td>\n",
              "      <td>0.0</td>\n",
              "      <td>0.0</td>\n",
              "      <td>0.0</td>\n",
              "      <td>0.0</td>\n",
              "      <td>0.0</td>\n",
              "      <td>0.0</td>\n",
              "      <td>0.0</td>\n",
              "      <td>0.0</td>\n",
              "      <td>0.0</td>\n",
              "    </tr>\n",
              "    <tr>\n",
              "      <th>1</th>\n",
              "      <td>50337</td>\n",
              "      <td>A Multicore Processor based Real-Time System f...</td>\n",
              "      <td>In this paper we propose an Intelligent Manage...</td>\n",
              "      <td>A Multicore Processor based RealTime System fo...</td>\n",
              "      <td>0.0</td>\n",
              "      <td>0.0</td>\n",
              "      <td>0.0</td>\n",
              "      <td>0.0</td>\n",
              "      <td>0.0</td>\n",
              "      <td>0.0</td>\n",
              "      <td>...</td>\n",
              "      <td>0.0</td>\n",
              "      <td>0.0</td>\n",
              "      <td>0.0</td>\n",
              "      <td>0.0</td>\n",
              "      <td>0.0</td>\n",
              "      <td>0.0</td>\n",
              "      <td>0.0</td>\n",
              "      <td>0.0</td>\n",
              "      <td>0.0</td>\n",
              "      <td>0.0</td>\n",
              "    </tr>\n",
              "    <tr>\n",
              "      <th>2</th>\n",
              "      <td>66515</td>\n",
              "      <td>Perceptual Quality Improvement in Videoconfere...</td>\n",
              "      <td>In the latest years, videoconferencing has tak...</td>\n",
              "      <td>Perceptual Quality Improvement in Videoconfere...</td>\n",
              "      <td>0.0</td>\n",
              "      <td>0.0</td>\n",
              "      <td>0.0</td>\n",
              "      <td>0.0</td>\n",
              "      <td>0.0</td>\n",
              "      <td>0.0</td>\n",
              "      <td>...</td>\n",
              "      <td>0.0</td>\n",
              "      <td>0.0</td>\n",
              "      <td>0.0</td>\n",
              "      <td>0.0</td>\n",
              "      <td>0.0</td>\n",
              "      <td>0.0</td>\n",
              "      <td>0.0</td>\n",
              "      <td>0.0</td>\n",
              "      <td>0.0</td>\n",
              "      <td>0.0</td>\n",
              "    </tr>\n",
              "    <tr>\n",
              "      <th>3</th>\n",
              "      <td>57464</td>\n",
              "      <td>Hundred-Kilobyte Lookup Tables for Efficient S...</td>\n",
              "      <td>Conventional super-resolution (SR) schemes mak...</td>\n",
              "      <td>HundredKilobyte Lookup Tables for Efficient Si...</td>\n",
              "      <td>0.0</td>\n",
              "      <td>0.0</td>\n",
              "      <td>0.0</td>\n",
              "      <td>0.0</td>\n",
              "      <td>0.0</td>\n",
              "      <td>0.0</td>\n",
              "      <td>...</td>\n",
              "      <td>0.0</td>\n",
              "      <td>0.0</td>\n",
              "      <td>0.0</td>\n",
              "      <td>0.0</td>\n",
              "      <td>0.0</td>\n",
              "      <td>0.0</td>\n",
              "      <td>0.0</td>\n",
              "      <td>0.0</td>\n",
              "      <td>0.0</td>\n",
              "      <td>0.0</td>\n",
              "    </tr>\n",
              "    <tr>\n",
              "      <th>4</th>\n",
              "      <td>43169</td>\n",
              "      <td>Efficient Sequence Labeling with Actor-Critic ...</td>\n",
              "      <td>Neural approaches to sequence labeling often u...</td>\n",
              "      <td>Efficient Sequence Labeling with ActorCritic T...</td>\n",
              "      <td>0.0</td>\n",
              "      <td>0.0</td>\n",
              "      <td>0.0</td>\n",
              "      <td>0.0</td>\n",
              "      <td>0.0</td>\n",
              "      <td>0.0</td>\n",
              "      <td>...</td>\n",
              "      <td>0.0</td>\n",
              "      <td>0.0</td>\n",
              "      <td>0.0</td>\n",
              "      <td>0.0</td>\n",
              "      <td>0.0</td>\n",
              "      <td>0.0</td>\n",
              "      <td>0.0</td>\n",
              "      <td>0.0</td>\n",
              "      <td>0.0</td>\n",
              "      <td>0.0</td>\n",
              "    </tr>\n",
              "    <tr>\n",
              "      <th>...</th>\n",
              "      <td>...</td>\n",
              "      <td>...</td>\n",
              "      <td>...</td>\n",
              "      <td>...</td>\n",
              "      <td>...</td>\n",
              "      <td>...</td>\n",
              "      <td>...</td>\n",
              "      <td>...</td>\n",
              "      <td>...</td>\n",
              "      <td>...</td>\n",
              "      <td>...</td>\n",
              "      <td>...</td>\n",
              "      <td>...</td>\n",
              "      <td>...</td>\n",
              "      <td>...</td>\n",
              "      <td>...</td>\n",
              "      <td>...</td>\n",
              "      <td>...</td>\n",
              "      <td>...</td>\n",
              "      <td>...</td>\n",
              "      <td>...</td>\n",
              "    </tr>\n",
              "    <tr>\n",
              "      <th>10969</th>\n",
              "      <td>41708</td>\n",
              "      <td>A new lipid-structured model to investigate th...</td>\n",
              "      <td>Atherosclerotic plaques form in artery walls d...</td>\n",
              "      <td>A new lipidstructured model to investigate the...</td>\n",
              "      <td>0.0</td>\n",
              "      <td>0.0</td>\n",
              "      <td>0.0</td>\n",
              "      <td>0.0</td>\n",
              "      <td>0.0</td>\n",
              "      <td>0.0</td>\n",
              "      <td>...</td>\n",
              "      <td>0.0</td>\n",
              "      <td>0.0</td>\n",
              "      <td>0.0</td>\n",
              "      <td>0.0</td>\n",
              "      <td>0.0</td>\n",
              "      <td>0.0</td>\n",
              "      <td>0.0</td>\n",
              "      <td>0.0</td>\n",
              "      <td>0.0</td>\n",
              "      <td>0.0</td>\n",
              "    </tr>\n",
              "    <tr>\n",
              "      <th>10970</th>\n",
              "      <td>38843</td>\n",
              "      <td>Evaluating the Efficacy of Hybrid Deep Learnin...</td>\n",
              "      <td>My research investigates the use of cutting-ed...</td>\n",
              "      <td>Evaluating the Efficacy of Hybrid Deep Learnin...</td>\n",
              "      <td>0.0</td>\n",
              "      <td>0.0</td>\n",
              "      <td>0.0</td>\n",
              "      <td>0.0</td>\n",
              "      <td>0.0</td>\n",
              "      <td>0.0</td>\n",
              "      <td>...</td>\n",
              "      <td>0.0</td>\n",
              "      <td>0.0</td>\n",
              "      <td>0.0</td>\n",
              "      <td>0.0</td>\n",
              "      <td>0.0</td>\n",
              "      <td>0.0</td>\n",
              "      <td>0.0</td>\n",
              "      <td>0.0</td>\n",
              "      <td>0.0</td>\n",
              "      <td>0.0</td>\n",
              "    </tr>\n",
              "    <tr>\n",
              "      <th>10971</th>\n",
              "      <td>57571</td>\n",
              "      <td>Weakly Supervised Video Individual CountingWea...</td>\n",
              "      <td>Video Individual Counting (VIC) aims to predic...</td>\n",
              "      <td>Weakly Supervised Video Individual CountingWea...</td>\n",
              "      <td>0.0</td>\n",
              "      <td>0.0</td>\n",
              "      <td>0.0</td>\n",
              "      <td>0.0</td>\n",
              "      <td>0.0</td>\n",
              "      <td>0.0</td>\n",
              "      <td>...</td>\n",
              "      <td>0.0</td>\n",
              "      <td>0.0</td>\n",
              "      <td>0.0</td>\n",
              "      <td>0.0</td>\n",
              "      <td>0.0</td>\n",
              "      <td>0.0</td>\n",
              "      <td>0.0</td>\n",
              "      <td>0.0</td>\n",
              "      <td>0.0</td>\n",
              "      <td>0.0</td>\n",
              "    </tr>\n",
              "    <tr>\n",
              "      <th>10972</th>\n",
              "      <td>31964</td>\n",
              "      <td>StructFormer: Learning Spatial Structure for L...</td>\n",
              "      <td>Geometric organization of objects into semanti...</td>\n",
              "      <td>StructFormer Learning Spatial Structure for La...</td>\n",
              "      <td>0.0</td>\n",
              "      <td>0.0</td>\n",
              "      <td>0.0</td>\n",
              "      <td>0.0</td>\n",
              "      <td>0.0</td>\n",
              "      <td>0.0</td>\n",
              "      <td>...</td>\n",
              "      <td>0.0</td>\n",
              "      <td>0.0</td>\n",
              "      <td>0.0</td>\n",
              "      <td>0.0</td>\n",
              "      <td>0.0</td>\n",
              "      <td>0.0</td>\n",
              "      <td>0.0</td>\n",
              "      <td>0.0</td>\n",
              "      <td>0.0</td>\n",
              "      <td>0.0</td>\n",
              "    </tr>\n",
              "    <tr>\n",
              "      <th>10973</th>\n",
              "      <td>22229</td>\n",
              "      <td>Numerical Simulation guided Lazy Abstraction R...</td>\n",
              "      <td>This draft suggests a new counterexample guide...</td>\n",
              "      <td>Numerical Simulation guided Lazy Abstraction R...</td>\n",
              "      <td>0.0</td>\n",
              "      <td>0.0</td>\n",
              "      <td>0.0</td>\n",
              "      <td>0.0</td>\n",
              "      <td>0.0</td>\n",
              "      <td>0.0</td>\n",
              "      <td>...</td>\n",
              "      <td>0.0</td>\n",
              "      <td>0.0</td>\n",
              "      <td>0.0</td>\n",
              "      <td>0.0</td>\n",
              "      <td>0.0</td>\n",
              "      <td>0.0</td>\n",
              "      <td>0.0</td>\n",
              "      <td>0.0</td>\n",
              "      <td>0.0</td>\n",
              "      <td>0.0</td>\n",
              "    </tr>\n",
              "  </tbody>\n",
              "</table>\n",
              "<p>10974 rows × 61 columns</p>\n",
              "</div>\n",
              "    <div class=\"colab-df-buttons\">\n",
              "\n",
              "  <div class=\"colab-df-container\">\n",
              "    <button class=\"colab-df-convert\" onclick=\"convertToInteractive('df-d86e2711-87b3-4305-893f-ccc64dfdc069')\"\n",
              "            title=\"Convert this dataframe to an interactive table.\"\n",
              "            style=\"display:none;\">\n",
              "\n",
              "  <svg xmlns=\"http://www.w3.org/2000/svg\" height=\"24px\" viewBox=\"0 -960 960 960\">\n",
              "    <path d=\"M120-120v-720h720v720H120Zm60-500h600v-160H180v160Zm220 220h160v-160H400v160Zm0 220h160v-160H400v160ZM180-400h160v-160H180v160Zm440 0h160v-160H620v160ZM180-180h160v-160H180v160Zm440 0h160v-160H620v160Z\"/>\n",
              "  </svg>\n",
              "    </button>\n",
              "\n",
              "  <style>\n",
              "    .colab-df-container {\n",
              "      display:flex;\n",
              "      gap: 12px;\n",
              "    }\n",
              "\n",
              "    .colab-df-convert {\n",
              "      background-color: #E8F0FE;\n",
              "      border: none;\n",
              "      border-radius: 50%;\n",
              "      cursor: pointer;\n",
              "      display: none;\n",
              "      fill: #1967D2;\n",
              "      height: 32px;\n",
              "      padding: 0 0 0 0;\n",
              "      width: 32px;\n",
              "    }\n",
              "\n",
              "    .colab-df-convert:hover {\n",
              "      background-color: #E2EBFA;\n",
              "      box-shadow: 0px 1px 2px rgba(60, 64, 67, 0.3), 0px 1px 3px 1px rgba(60, 64, 67, 0.15);\n",
              "      fill: #174EA6;\n",
              "    }\n",
              "\n",
              "    .colab-df-buttons div {\n",
              "      margin-bottom: 4px;\n",
              "    }\n",
              "\n",
              "    [theme=dark] .colab-df-convert {\n",
              "      background-color: #3B4455;\n",
              "      fill: #D2E3FC;\n",
              "    }\n",
              "\n",
              "    [theme=dark] .colab-df-convert:hover {\n",
              "      background-color: #434B5C;\n",
              "      box-shadow: 0px 1px 3px 1px rgba(0, 0, 0, 0.15);\n",
              "      filter: drop-shadow(0px 1px 2px rgba(0, 0, 0, 0.3));\n",
              "      fill: #FFFFFF;\n",
              "    }\n",
              "  </style>\n",
              "\n",
              "    <script>\n",
              "      const buttonEl =\n",
              "        document.querySelector('#df-d86e2711-87b3-4305-893f-ccc64dfdc069 button.colab-df-convert');\n",
              "      buttonEl.style.display =\n",
              "        google.colab.kernel.accessAllowed ? 'block' : 'none';\n",
              "\n",
              "      async function convertToInteractive(key) {\n",
              "        const element = document.querySelector('#df-d86e2711-87b3-4305-893f-ccc64dfdc069');\n",
              "        const dataTable =\n",
              "          await google.colab.kernel.invokeFunction('convertToInteractive',\n",
              "                                                    [key], {});\n",
              "        if (!dataTable) return;\n",
              "\n",
              "        const docLinkHtml = 'Like what you see? Visit the ' +\n",
              "          '<a target=\"_blank\" href=https://colab.research.google.com/notebooks/data_table.ipynb>data table notebook</a>'\n",
              "          + ' to learn more about interactive tables.';\n",
              "        element.innerHTML = '';\n",
              "        dataTable['output_type'] = 'display_data';\n",
              "        await google.colab.output.renderOutput(dataTable, element);\n",
              "        const docLink = document.createElement('div');\n",
              "        docLink.innerHTML = docLinkHtml;\n",
              "        element.appendChild(docLink);\n",
              "      }\n",
              "    </script>\n",
              "  </div>\n",
              "\n",
              "\n",
              "<div id=\"df-fa871ae9-8b76-46be-93d3-40dd27f94612\">\n",
              "  <button class=\"colab-df-quickchart\" onclick=\"quickchart('df-fa871ae9-8b76-46be-93d3-40dd27f94612')\"\n",
              "            title=\"Suggest charts\"\n",
              "            style=\"display:none;\">\n",
              "\n",
              "<svg xmlns=\"http://www.w3.org/2000/svg\" height=\"24px\"viewBox=\"0 0 24 24\"\n",
              "     width=\"24px\">\n",
              "    <g>\n",
              "        <path d=\"M19 3H5c-1.1 0-2 .9-2 2v14c0 1.1.9 2 2 2h14c1.1 0 2-.9 2-2V5c0-1.1-.9-2-2-2zM9 17H7v-7h2v7zm4 0h-2V7h2v10zm4 0h-2v-4h2v4z\"/>\n",
              "    </g>\n",
              "</svg>\n",
              "  </button>\n",
              "\n",
              "<style>\n",
              "  .colab-df-quickchart {\n",
              "      --bg-color: #E8F0FE;\n",
              "      --fill-color: #1967D2;\n",
              "      --hover-bg-color: #E2EBFA;\n",
              "      --hover-fill-color: #174EA6;\n",
              "      --disabled-fill-color: #AAA;\n",
              "      --disabled-bg-color: #DDD;\n",
              "  }\n",
              "\n",
              "  [theme=dark] .colab-df-quickchart {\n",
              "      --bg-color: #3B4455;\n",
              "      --fill-color: #D2E3FC;\n",
              "      --hover-bg-color: #434B5C;\n",
              "      --hover-fill-color: #FFFFFF;\n",
              "      --disabled-bg-color: #3B4455;\n",
              "      --disabled-fill-color: #666;\n",
              "  }\n",
              "\n",
              "  .colab-df-quickchart {\n",
              "    background-color: var(--bg-color);\n",
              "    border: none;\n",
              "    border-radius: 50%;\n",
              "    cursor: pointer;\n",
              "    display: none;\n",
              "    fill: var(--fill-color);\n",
              "    height: 32px;\n",
              "    padding: 0;\n",
              "    width: 32px;\n",
              "  }\n",
              "\n",
              "  .colab-df-quickchart:hover {\n",
              "    background-color: var(--hover-bg-color);\n",
              "    box-shadow: 0 1px 2px rgba(60, 64, 67, 0.3), 0 1px 3px 1px rgba(60, 64, 67, 0.15);\n",
              "    fill: var(--button-hover-fill-color);\n",
              "  }\n",
              "\n",
              "  .colab-df-quickchart-complete:disabled,\n",
              "  .colab-df-quickchart-complete:disabled:hover {\n",
              "    background-color: var(--disabled-bg-color);\n",
              "    fill: var(--disabled-fill-color);\n",
              "    box-shadow: none;\n",
              "  }\n",
              "\n",
              "  .colab-df-spinner {\n",
              "    border: 2px solid var(--fill-color);\n",
              "    border-color: transparent;\n",
              "    border-bottom-color: var(--fill-color);\n",
              "    animation:\n",
              "      spin 1s steps(1) infinite;\n",
              "  }\n",
              "\n",
              "  @keyframes spin {\n",
              "    0% {\n",
              "      border-color: transparent;\n",
              "      border-bottom-color: var(--fill-color);\n",
              "      border-left-color: var(--fill-color);\n",
              "    }\n",
              "    20% {\n",
              "      border-color: transparent;\n",
              "      border-left-color: var(--fill-color);\n",
              "      border-top-color: var(--fill-color);\n",
              "    }\n",
              "    30% {\n",
              "      border-color: transparent;\n",
              "      border-left-color: var(--fill-color);\n",
              "      border-top-color: var(--fill-color);\n",
              "      border-right-color: var(--fill-color);\n",
              "    }\n",
              "    40% {\n",
              "      border-color: transparent;\n",
              "      border-right-color: var(--fill-color);\n",
              "      border-top-color: var(--fill-color);\n",
              "    }\n",
              "    60% {\n",
              "      border-color: transparent;\n",
              "      border-right-color: var(--fill-color);\n",
              "    }\n",
              "    80% {\n",
              "      border-color: transparent;\n",
              "      border-right-color: var(--fill-color);\n",
              "      border-bottom-color: var(--fill-color);\n",
              "    }\n",
              "    90% {\n",
              "      border-color: transparent;\n",
              "      border-bottom-color: var(--fill-color);\n",
              "    }\n",
              "  }\n",
              "</style>\n",
              "\n",
              "  <script>\n",
              "    async function quickchart(key) {\n",
              "      const quickchartButtonEl =\n",
              "        document.querySelector('#' + key + ' button');\n",
              "      quickchartButtonEl.disabled = true;  // To prevent multiple clicks.\n",
              "      quickchartButtonEl.classList.add('colab-df-spinner');\n",
              "      try {\n",
              "        const charts = await google.colab.kernel.invokeFunction(\n",
              "            'suggestCharts', [key], {});\n",
              "      } catch (error) {\n",
              "        console.error('Error during call to suggestCharts:', error);\n",
              "      }\n",
              "      quickchartButtonEl.classList.remove('colab-df-spinner');\n",
              "      quickchartButtonEl.classList.add('colab-df-quickchart-complete');\n",
              "    }\n",
              "    (() => {\n",
              "      let quickchartButtonEl =\n",
              "        document.querySelector('#df-fa871ae9-8b76-46be-93d3-40dd27f94612 button');\n",
              "      quickchartButtonEl.style.display =\n",
              "        google.colab.kernel.accessAllowed ? 'block' : 'none';\n",
              "    })();\n",
              "  </script>\n",
              "</div>\n",
              "\n",
              "  <div id=\"id_c84cddbc-5ff3-4aab-aeba-d29de752cb8e\">\n",
              "    <style>\n",
              "      .colab-df-generate {\n",
              "        background-color: #E8F0FE;\n",
              "        border: none;\n",
              "        border-radius: 50%;\n",
              "        cursor: pointer;\n",
              "        display: none;\n",
              "        fill: #1967D2;\n",
              "        height: 32px;\n",
              "        padding: 0 0 0 0;\n",
              "        width: 32px;\n",
              "      }\n",
              "\n",
              "      .colab-df-generate:hover {\n",
              "        background-color: #E2EBFA;\n",
              "        box-shadow: 0px 1px 2px rgba(60, 64, 67, 0.3), 0px 1px 3px 1px rgba(60, 64, 67, 0.15);\n",
              "        fill: #174EA6;\n",
              "      }\n",
              "\n",
              "      [theme=dark] .colab-df-generate {\n",
              "        background-color: #3B4455;\n",
              "        fill: #D2E3FC;\n",
              "      }\n",
              "\n",
              "      [theme=dark] .colab-df-generate:hover {\n",
              "        background-color: #434B5C;\n",
              "        box-shadow: 0px 1px 3px 1px rgba(0, 0, 0, 0.15);\n",
              "        filter: drop-shadow(0px 1px 2px rgba(0, 0, 0, 0.3));\n",
              "        fill: #FFFFFF;\n",
              "      }\n",
              "    </style>\n",
              "    <button class=\"colab-df-generate\" onclick=\"generateWithVariable('testdf')\"\n",
              "            title=\"Generate code using this dataframe.\"\n",
              "            style=\"display:none;\">\n",
              "\n",
              "  <svg xmlns=\"http://www.w3.org/2000/svg\" height=\"24px\"viewBox=\"0 0 24 24\"\n",
              "       width=\"24px\">\n",
              "    <path d=\"M7,19H8.4L18.45,9,17,7.55,7,17.6ZM5,21V16.75L18.45,3.32a2,2,0,0,1,2.83,0l1.4,1.43a1.91,1.91,0,0,1,.58,1.4,1.91,1.91,0,0,1-.58,1.4L9.25,21ZM18.45,9,17,7.55Zm-12,3A5.31,5.31,0,0,0,4.9,8.1,5.31,5.31,0,0,0,1,6.5,5.31,5.31,0,0,0,4.9,4.9,5.31,5.31,0,0,0,6.5,1,5.31,5.31,0,0,0,8.1,4.9,5.31,5.31,0,0,0,12,6.5,5.46,5.46,0,0,0,6.5,12Z\"/>\n",
              "  </svg>\n",
              "    </button>\n",
              "    <script>\n",
              "      (() => {\n",
              "      const buttonEl =\n",
              "        document.querySelector('#id_c84cddbc-5ff3-4aab-aeba-d29de752cb8e button.colab-df-generate');\n",
              "      buttonEl.style.display =\n",
              "        google.colab.kernel.accessAllowed ? 'block' : 'none';\n",
              "\n",
              "      buttonEl.onclick = () => {\n",
              "        google.colab.notebook.generateWithVariable('testdf');\n",
              "      }\n",
              "      })();\n",
              "    </script>\n",
              "  </div>\n",
              "\n",
              "    </div>\n",
              "  </div>\n"
            ],
            "text/plain": [
              "          Id                                              Title  \\\n",
              "0      30332     Pricing FX Options under Intermediate Currency   \n",
              "1      50337  A Multicore Processor based Real-Time System f...   \n",
              "2      66515  Perceptual Quality Improvement in Videoconfere...   \n",
              "3      57464  Hundred-Kilobyte Lookup Tables for Efficient S...   \n",
              "4      43169  Efficient Sequence Labeling with Actor-Critic ...   \n",
              "...      ...                                                ...   \n",
              "10969  41708  A new lipid-structured model to investigate th...   \n",
              "10970  38843  Evaluating the Efficacy of Hybrid Deep Learnin...   \n",
              "10971  57571  Weakly Supervised Video Individual CountingWea...   \n",
              "10972  31964  StructFormer: Learning Spatial Structure for L...   \n",
              "10973  22229  Numerical Simulation guided Lazy Abstraction R...   \n",
              "\n",
              "                                                Abstract  \\\n",
              "0      We suggest an intermediate currency approach t...   \n",
              "1      In this paper we propose an Intelligent Manage...   \n",
              "2      In the latest years, videoconferencing has tak...   \n",
              "3      Conventional super-resolution (SR) schemes mak...   \n",
              "4      Neural approaches to sequence labeling often u...   \n",
              "...                                                  ...   \n",
              "10969  Atherosclerotic plaques form in artery walls d...   \n",
              "10970  My research investigates the use of cutting-ed...   \n",
              "10971  Video Individual Counting (VIC) aims to predic...   \n",
              "10972  Geometric organization of objects into semanti...   \n",
              "10973  This draft suggests a new counterexample guide...   \n",
              "\n",
              "                                                    comb  math.AT  stat.AP  \\\n",
              "0      Pricing FX Options under Intermediate Currency...      0.0      0.0   \n",
              "1      A Multicore Processor based RealTime System fo...      0.0      0.0   \n",
              "2      Perceptual Quality Improvement in Videoconfere...      0.0      0.0   \n",
              "3      HundredKilobyte Lookup Tables for Efficient Si...      0.0      0.0   \n",
              "4      Efficient Sequence Labeling with ActorCritic T...      0.0      0.0   \n",
              "...                                                  ...      ...      ...   \n",
              "10969  A new lipidstructured model to investigate the...      0.0      0.0   \n",
              "10970  Evaluating the Efficacy of Hybrid Deep Learnin...      0.0      0.0   \n",
              "10971  Weakly Supervised Video Individual CountingWea...      0.0      0.0   \n",
              "10972  StructFormer Learning Spatial Structure for La...      0.0      0.0   \n",
              "10973  Numerical Simulation guided Lazy Abstraction R...      0.0      0.0   \n",
              "\n",
              "       cs.AR  math.QA  q-bio.MN  eess.AS  ...  cs.SE  cs.RO  stat.TH  cs.DB  \\\n",
              "0        0.0      0.0       0.0      0.0  ...    0.0    0.0      0.0    0.0   \n",
              "1        0.0      0.0       0.0      0.0  ...    0.0    0.0      0.0    0.0   \n",
              "2        0.0      0.0       0.0      0.0  ...    0.0    0.0      0.0    0.0   \n",
              "3        0.0      0.0       0.0      0.0  ...    0.0    0.0      0.0    0.0   \n",
              "4        0.0      0.0       0.0      0.0  ...    0.0    0.0      0.0    0.0   \n",
              "...      ...      ...       ...      ...  ...    ...    ...      ...    ...   \n",
              "10969    0.0      0.0       0.0      0.0  ...    0.0    0.0      0.0    0.0   \n",
              "10970    0.0      0.0       0.0      0.0  ...    0.0    0.0      0.0    0.0   \n",
              "10971    0.0      0.0       0.0      0.0  ...    0.0    0.0      0.0    0.0   \n",
              "10972    0.0      0.0       0.0      0.0  ...    0.0    0.0      0.0    0.0   \n",
              "10973    0.0      0.0       0.0      0.0  ...    0.0    0.0      0.0    0.0   \n",
              "\n",
              "       math.ST  q-bio.GN  q-fin.PM  q-bio.TO  math.GR  cs.IR  \n",
              "0          0.0       0.0       0.0       0.0      0.0    0.0  \n",
              "1          0.0       0.0       0.0       0.0      0.0    0.0  \n",
              "2          0.0       0.0       0.0       0.0      0.0    0.0  \n",
              "3          0.0       0.0       0.0       0.0      0.0    0.0  \n",
              "4          0.0       0.0       0.0       0.0      0.0    0.0  \n",
              "...        ...       ...       ...       ...      ...    ...  \n",
              "10969      0.0       0.0       0.0       0.0      0.0    0.0  \n",
              "10970      0.0       0.0       0.0       0.0      0.0    0.0  \n",
              "10971      0.0       0.0       0.0       0.0      0.0    0.0  \n",
              "10972      0.0       0.0       0.0       0.0      0.0    0.0  \n",
              "10973      0.0       0.0       0.0       0.0      0.0    0.0  \n",
              "\n",
              "[10974 rows x 61 columns]"
            ]
          },
          "execution_count": 67,
          "metadata": {},
          "output_type": "execute_result"
        }
      ],
      "source": [
        "testdf[l] = res\n",
        "testdf"
      ]
    },
    {
      "cell_type": "code",
      "execution_count": null,
      "metadata": {
        "colab": {
          "background_save": true
        },
        "id": "0UDyrGU_n0I9"
      },
      "outputs": [],
      "source": [
        "testdf.drop([\"Title\",\"Abstract\",\"comb\"],axis = 1,inplace=True)"
      ]
    },
    {
      "cell_type": "code",
      "execution_count": null,
      "metadata": {
        "colab": {
          "background_save": true
        },
        "id": "tKp8jR8Qn0I9"
      },
      "outputs": [],
      "source": [
        "testdf.to_csv(\"/content/drive/MyDrive/kriti-2024/sub.csv\",index = False)"
      ]
    },
    {
      "cell_type": "code",
      "execution_count": null,
      "metadata": {
        "id": "o0WO5y0YvcBO"
      },
      "outputs": [],
      "source": []
    }
  ],
  "metadata": {
    "colab": {
      "provenance": []
    },
    "kernelspec": {
      "display_name": "Python 3",
      "language": "python",
      "name": "python3"
    },
    "language_info": {
      "codemirror_mode": {
        "name": "ipython",
        "version": 3
      },
      "file_extension": ".py",
      "mimetype": "text/x-python",
      "name": "python",
      "nbconvert_exporter": "python",
      "pygments_lexer": "ipython3",
      "version": "3.7.9"
    }
  },
  "nbformat": 4,
  "nbformat_minor": 0
}